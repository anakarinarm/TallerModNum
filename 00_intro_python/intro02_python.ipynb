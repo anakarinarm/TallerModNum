{
 "cells": [
  {
   "cell_type": "markdown",
   "metadata": {},
   "source": [
    "# Introducción a la programación con Python\n",
    "\n",
    "## Jupyter Notebook 2 para Taller de Modelación Numérica 2022-2\n",
    "### Facultad de Ciencias, UNAM\n",
    "\n",
    "El material de este \"notebook\" está basado en la lección [Programming with Python](https://swcarpentry.github.io/python-novice-inflammation/) de los [Software Carpentry Workshops](https://software-carpentry.org/), publicada bajo la licencia [Creative Commons - Attribution License](https://software-carpentry.org/license/). Traducción y modificaciones por Karina Ramos Musalem. "
   ]
  },
  {
   "cell_type": "markdown",
   "metadata": {},
   "source": [
    "## Antes de empezar\n",
    "\n",
    "Al terminar este notebook (intro02_python):\n",
    "\n",
    "* Reforzarán los conocimientos adquiridos en el notebook pasado. \n",
    "* Aprenderán los conceptos de programación de ciclos, condicionales y funciones.\n",
    "* Aprenderán algunas funciones de matplotlib para visualización de datos 2D."
   ]
  },
  {
   "cell_type": "markdown",
   "metadata": {},
   "source": [
    "## 4. Repetir acciones con ciclos o *loops*\n",
    "\n",
    "#### Preguntas a responder\n",
    "1. ¿Cómo repetir la misma operación en muchos valores distintos?\n",
    "\n",
    "#### Objetivos\n",
    "* Explicar qué es un ciclo `for` (*for loop*).\n",
    "* Escribir correctamente un ciclo `for` para repetir cálculos simples.\n",
    "* Monitorear cambios en la variable del ciclo conforme corre el ciclo.\n",
    "* Monitorear cambios en las otras variables conforme se actualizan durante el ciclo `for`."
   ]
  },
  {
   "cell_type": "markdown",
   "metadata": {},
   "source": [
    "En la clase pasada escribimos código de Python que grafica valores de interés de nuestro archivo de datos (`precip_mensual_estacion01.txt`). Tenemos otros 6 archivos de datos de otras variables meteorológicas y podríamos tener muchos más. Queremos crear gráficas para todos nuestros archivos y para eso tenemos que enseñarle a la computadora a repetir acciones.\n",
    "\n",
    "Por ejemplo, podemos repetir la impresión de cada caracter en un palabra:"
   ]
  },
  {
   "cell_type": "code",
   "execution_count": 1,
   "metadata": {},
   "outputs": [],
   "source": [
    "palabra = 'plomo'"
   ]
  },
  {
   "cell_type": "markdown",
   "metadata": {},
   "source": [
    "En Python, un *string* o cadena es básicamente una colección ordenada de caracteres y cada caracter tiene un número asociado - su **índice** (similar al índice que estudiamos en el notebook 1 para arreglos). Así que podemos acceder a los caracteres de una cadena usando sus índices. Por ejemplo, podemos obtener el primer caracter de la palabra `'plomo'`usando `palabra[0]`. Una forma de imprimir cada caracter es usando 5 comandos `print`:"
   ]
  },
  {
   "cell_type": "code",
   "execution_count": 2,
   "metadata": {},
   "outputs": [
    {
     "name": "stdout",
     "output_type": "stream",
     "text": [
      "p\n",
      "l\n",
      "o\n",
      "m\n",
      "o\n"
     ]
    }
   ],
   "source": [
    "print(palabra[0])\n",
    "print(palabra[1])\n",
    "print(palabra[2])\n",
    "print(palabra[3])\n",
    "print(palabra[4])"
   ]
  },
  {
   "cell_type": "markdown",
   "metadata": {},
   "source": [
    "¡Guácala! Esta forma de hacerlo no es buena por tres razones:\n",
    "1. **No es escalable**. Imagínate que tienes que imprimir algo con cientos de caracteres. Es fácil hacerlo con cinco, pero hacelo con cien es muy impráctico.\n",
    "2. **Es difícil de mantener y modificar**. Si queremos decorar cada caracter con un asterisco o algún otro caracter, tendríamos que cambiar línea por línea del código. De nuevo, parece fácil cuando hay 5 líneas, pero no lo es tanto para cientos de líneas.\n",
    "3. **Es frágil**. Si usamos este código con otra palabra que tenga un número distinto de caracteres, el código no va a servir. Si la palabra es más larga, solo aparecerán parte de las letras, y si es más corta se producirá un error porque no habrá nada que imprimir.\n",
    "\n",
    "Por ejemplo:"
   ]
  },
  {
   "cell_type": "code",
   "execution_count": 3,
   "metadata": {},
   "outputs": [
    {
     "name": "stdout",
     "output_type": "stream",
     "text": [
      "u\n",
      "n\n",
      "o\n"
     ]
    },
    {
     "ename": "IndexError",
     "evalue": "string index out of range",
     "output_type": "error",
     "traceback": [
      "\u001b[0;31m---------------------------------------------------------------------------\u001b[0m",
      "\u001b[0;31mIndexError\u001b[0m                                Traceback (most recent call last)",
      "\u001b[0;32m<ipython-input-3-c8a801f7cd23>\u001b[0m in \u001b[0;36m<module>\u001b[0;34m\u001b[0m\n\u001b[1;32m      3\u001b[0m \u001b[0mprint\u001b[0m\u001b[0;34m(\u001b[0m\u001b[0mpalabra\u001b[0m\u001b[0;34m[\u001b[0m\u001b[0;36m1\u001b[0m\u001b[0;34m]\u001b[0m\u001b[0;34m)\u001b[0m\u001b[0;34m\u001b[0m\u001b[0;34m\u001b[0m\u001b[0m\n\u001b[1;32m      4\u001b[0m \u001b[0mprint\u001b[0m\u001b[0;34m(\u001b[0m\u001b[0mpalabra\u001b[0m\u001b[0;34m[\u001b[0m\u001b[0;36m2\u001b[0m\u001b[0;34m]\u001b[0m\u001b[0;34m)\u001b[0m\u001b[0;34m\u001b[0m\u001b[0;34m\u001b[0m\u001b[0m\n\u001b[0;32m----> 5\u001b[0;31m \u001b[0mprint\u001b[0m\u001b[0;34m(\u001b[0m\u001b[0mpalabra\u001b[0m\u001b[0;34m[\u001b[0m\u001b[0;36m3\u001b[0m\u001b[0;34m]\u001b[0m\u001b[0;34m)\u001b[0m\u001b[0;34m\u001b[0m\u001b[0;34m\u001b[0m\u001b[0m\n\u001b[0m\u001b[1;32m      6\u001b[0m \u001b[0mprint\u001b[0m\u001b[0;34m(\u001b[0m\u001b[0mpalabra\u001b[0m\u001b[0;34m[\u001b[0m\u001b[0;36m4\u001b[0m\u001b[0;34m]\u001b[0m\u001b[0;34m)\u001b[0m\u001b[0;34m\u001b[0m\u001b[0;34m\u001b[0m\u001b[0m\n",
      "\u001b[0;31mIndexError\u001b[0m: string index out of range"
     ]
    }
   ],
   "source": [
    "palabra = 'uno'\n",
    "print(palabra[0])\n",
    "print(palabra[1])\n",
    "print(palabra[2])\n",
    "print(palabra[3])\n",
    "print(palabra[4])"
   ]
  },
  {
   "cell_type": "markdown",
   "metadata": {},
   "source": [
    "Pero hay una mejor solución:"
   ]
  },
  {
   "cell_type": "code",
   "execution_count": 4,
   "metadata": {},
   "outputs": [
    {
     "name": "stdout",
     "output_type": "stream",
     "text": [
      "p\n",
      "l\n",
      "o\n",
      "m\n",
      "o\n"
     ]
    }
   ],
   "source": [
    "palabra = 'plomo'\n",
    "\n",
    "for char in palabra:\n",
    "    print(char)"
   ]
  },
  {
   "cell_type": "markdown",
   "metadata": {},
   "source": [
    "Esto es más corto - al menos más corto que 100 `print`s  - y es más robusto (podemos usar el mismo código con cualquier palabra): "
   ]
  },
  {
   "cell_type": "code",
   "execution_count": 5,
   "metadata": {},
   "outputs": [
    {
     "name": "stdout",
     "output_type": "stream",
     "text": [
      "o\n",
      "x\n",
      "y\n",
      "g\n",
      "e\n",
      "n\n"
     ]
    }
   ],
   "source": [
    "palabra = 'oxygen'\n",
    "\n",
    "for char in palabra:\n",
    "    print(char)"
   ]
  },
  {
   "cell_type": "markdown",
   "metadata": {},
   "source": [
    "Esta versión usa un *loop* o ciclo **for** para repetir una operación - en este caso imprimir un caracter - una vez por cada 'elemento' en un secuencia. La forma general de un ciclo **for** es:\n",
    "\n",
    "**for** variable **in** coleccion:\n",
    "    \n",
    "    # haz algo usando variable, por ejemplo imprimir\n",
    "    \n",
    "Usando el ejemplo anterior (solo cambia *word* por *palabra*):\n",
    "\n",
    "<img src='images/loops_image.png'>"
   ]
  },
  {
   "cell_type": "markdown",
   "metadata": {},
   "source": [
    "En donde cada caracter (`char`) en la variable `word` o en nuestro caso `palabra` es pasada por el ciclo e impresa, un caracter tras otro. Los números en el diagrama denotan en qué ciclo se imprimió el caracter (1 es el primer ciclo y 6 es es último).\n",
    "\n",
    "Podemos llamar a la variable del ciclo como queramos, pero debe haber un símbolo `:`al final de la línea inicial de ciclo y siempre debemos respetar la alineación: Lo que queremos correr dentro del loop debe estar \"indentado\" hacia la derecha. En Python no hay un símbolo para indicar el final del ciclo; en cambio, lo que está indentado despues del `for` será parte del ciclo.\n",
    "\n",
    "Aquí hay otro ciclo que actualiza el valor de una variable cada vuelta:\n"
   ]
  },
  {
   "cell_type": "code",
   "execution_count": 6,
   "metadata": {},
   "outputs": [
    {
     "name": "stdout",
     "output_type": "stream",
     "text": [
      "Hay 5 vocales\n"
     ]
    }
   ],
   "source": [
    "largo = 0\n",
    "for vocal in 'aeiou':\n",
    "    largo = largo + 1\n",
    "print('Hay', largo, 'vocales')"
   ]
  },
  {
   "cell_type": "markdown",
   "metadata": {},
   "source": [
    "Vale la pena desmenuzar la ejecución de este programa paso por paso. Como hay cinco caracteres en `'aeiou'`, el código en la tercera línea se ejecutará cinco veces. La primera vez, `largo`es cero (el valor que le asignamos en la primera línea del código) y `vocal` es `'a'`. La línea 3 agrega 1 al valor de `largo`, produciendo 1, y actualiza `largo`para referir al nuevo valor. En la segunda vuelta, `vocal` es `'e'` y `largo`es 1, así que `largo` se actualiza al valor 2. Después de las tres vueltas siguentes, `largo`es 5; como no hay nungún otro elemento en `'aeiou'`para que Python procese, el ciclo se termina y el comando `print` de la cuarta línea se ejecuta y nos dice la respuesta final.\n",
    "\n",
    "Nota que la variable del ciclo se está usando para llevar un registro del progreso del ciclo. Sigue existiendo cuando termina el ciclo y también podemos reutilizar varables que se usaron como variables de ciclo anterirormente:"
   ]
  },
  {
   "cell_type": "code",
   "execution_count": 7,
   "metadata": {},
   "outputs": [
    {
     "name": "stdout",
     "output_type": "stream",
     "text": [
      "a\n",
      "b\n",
      "c\n",
      "Después del ciclo, letra es c\n"
     ]
    }
   ],
   "source": [
    "letra = 'z'\n",
    "for letra in 'abc':\n",
    "    print(letra)\n",
    "print('Después del ciclo, letra es', letra)"
   ]
  },
  {
   "cell_type": "markdown",
   "metadata": {},
   "source": [
    "Nota también que encontrar la longitud de un cadena de caracteres es una operación tan común que Python tiene una función integrada llamada `len`para hacerlo:"
   ]
  },
  {
   "cell_type": "code",
   "execution_count": 8,
   "metadata": {},
   "outputs": [
    {
     "name": "stdout",
     "output_type": "stream",
     "text": [
      "5\n"
     ]
    }
   ],
   "source": [
    "print(len('aeiou'))"
   ]
  },
  {
   "cell_type": "markdown",
   "metadata": {},
   "source": [
    "`len` es mucho más rápida que cualquier función que podríamos escribir y mucho más fácil de leer que el ciclo que escribimos; nos puede dar la longitud de muchas otras cosas además de cadenas, así que la seguiremos usando cuando podamos."
   ]
  },
  {
   "cell_type": "markdown",
   "metadata": {},
   "source": [
    "#### Pon en práctica lo que aprendiste\n",
    "\n",
    "1. Python tiene una función llamada `range`que genera una secuencia de números. `range` acepta 1, 2, o 3 parámetros.\n",
    "    * Si le damos un parámetro, `range` genera una secuencia de esa longitud que comienza en 0 e incrementa en 1. Por ejemplo `range(3)` produce números `0,1,2`.\n",
    "    * Si le damos 2 parámetros, `range`comienza en el primero y va hasta el segundo en incrementos de 1. Por ejemplo `range(2,5)` produce `2, 3, 4`.\n",
    "    * Si le damos 3 parámetros, empieza en el primero, va hasta el segundo e incrementa en pasos dados por el tercero. Por ejemplo `range(3, 10, 2)` produce `3, 5, 7, 9`.\n",
    "   \n",
    "   Usando `range`, escribe un ciclo que imprima los primeros 10 números naturles (1,2,3,...,10) "
   ]
  },
  {
   "cell_type": "code",
   "execution_count": 9,
   "metadata": {},
   "outputs": [],
   "source": [
    "# Respuesta\n",
    "\n"
   ]
  },
  {
   "cell_type": "markdown",
   "metadata": {},
   "source": [
    "2. Podemos exponenciar algo usando la notación `**`. Por ejemplo $2^3$ es `2**3`. Escribe un ciclo que calcule el mismo resultado que `2 ** 3` utilizando únicamente la multiplicación  `*` (sin usar exponenciación)."
   ]
  },
  {
   "cell_type": "code",
   "execution_count": 10,
   "metadata": {},
   "outputs": [],
   "source": [
    "# Respuesta\n",
    "\n",
    "#Comprobación\n"
   ]
  },
  {
   "cell_type": "markdown",
   "metadata": {},
   "source": [
    "### 4.1 En resumen\n",
    "\n",
    "* Usa `for variable in secuencia:` para procesar uno por uno los elementos de una secuencia.\n",
    "* El cuerpo de un ciclo `for` debe estar indentado.\n",
    "* Usa `len(cosa)`para determinar la longitud de alguna cosa que contiene valores."
   ]
  },
  {
   "cell_type": "markdown",
   "metadata": {},
   "source": [
    "## 5. Listas\n",
    "#### Preguntas a responder\n",
    "* ¿Cómo puedo guardar muchos valores juntos?\n",
    "\n",
    "### Objetivos\n",
    "* Explicar qué es una lista.\n",
    "* Crear e indizar listas de valores simples.\n",
    "* Cambiar el valor de elementos individuales.\n",
    "* Reordenar y rebanar elementos de una lista.\n",
    "\n",
    "De manera similar a un cadena que contiene muchos caracteres, una **lista** en un contenedor que puede guardar muchos valores. A diferencia de los arreglos de NumPy, las listas son intrínsecas de Python, por lo cual no necesitamos importar ninguna bibliotca para usarlas. Podemos crear listas poniendo valores entre `[]` y separandolos con `,`: "
   ]
  },
  {
   "cell_type": "code",
   "execution_count": 11,
   "metadata": {},
   "outputs": [
    {
     "name": "stdout",
     "output_type": "stream",
     "text": [
      "los impares son: [1, 3, 5, 7]\n"
     ]
    }
   ],
   "source": [
    "impares = [1, 3, 5, 7]\n",
    "print('los impares son:', impares)"
   ]
  },
  {
   "cell_type": "markdown",
   "metadata": {},
   "source": [
    "Podemos acceder a los elementos de un alista usando índices:"
   ]
  },
  {
   "cell_type": "code",
   "execution_count": 12,
   "metadata": {},
   "outputs": [
    {
     "name": "stdout",
     "output_type": "stream",
     "text": [
      "El primer elemento es  1\n",
      "El último elemento es  7\n",
      "El elemento -1 es  7\n"
     ]
    }
   ],
   "source": [
    "print('El primer elemento es ', impares[0])\n",
    "print('El último elemento es ', impares[3])\n",
    "print('El elemento -1 es ', impares[-1])"
   ]
  },
  {
   "cell_type": "markdown",
   "metadata": {},
   "source": [
    "Sí, podemos usar índices negativos en Pyhton. El elemento `-1` nos da el último de la lista, el `-2`el penúltimo, etc.\n",
    "\n",
    "Si hacemos un ciclo sobre un a lista, la variable del ciclo se asigna los elementos de la lista uno por uno:"
   ]
  },
  {
   "cell_type": "code",
   "execution_count": 13,
   "metadata": {},
   "outputs": [
    {
     "name": "stdout",
     "output_type": "stream",
     "text": [
      "1\n",
      "3\n",
      "5\n",
      "7\n"
     ]
    }
   ],
   "source": [
    "for numero in impares:\n",
    "    print(numero)"
   ]
  },
  {
   "cell_type": "markdown",
   "metadata": {},
   "source": [
    "Hay una diferencia importante entre las cadenas de caracteres y las listas: podemos cambiar los valores de una lista, pero no podemos cambiar caracteres individuales en una cadena. Por ejemplo:"
   ]
  },
  {
   "cell_type": "code",
   "execution_count": 14,
   "metadata": {},
   "outputs": [
    {
     "name": "stdout",
     "output_type": "stream",
     "text": [
      "nombres era originalmente: ['Curie', 'Franklyn', 'Turing']\n",
      "nombres es ahora: ['Curie', 'Franklin', 'Turing']\n"
     ]
    }
   ],
   "source": [
    "nombres = ['Curie', 'Franklyn', 'Turing'] # Franklin mal escrito\n",
    "print('nombres era originalmente:', nombres)\n",
    "nombres[1] = 'Franklin' # Nombre correcto\n",
    "print('nombres es ahora:', nombres)"
   ]
  },
  {
   "cell_type": "markdown",
   "metadata": {},
   "source": [
    "pero"
   ]
  },
  {
   "cell_type": "code",
   "execution_count": 15,
   "metadata": {},
   "outputs": [
    {
     "ename": "TypeError",
     "evalue": "'str' object does not support item assignment",
     "output_type": "error",
     "traceback": [
      "\u001b[0;31m---------------------------------------------------------------------------\u001b[0m",
      "\u001b[0;31mTypeError\u001b[0m                                 Traceback (most recent call last)",
      "\u001b[0;32m<ipython-input-15-36e713ca9a8b>\u001b[0m in \u001b[0;36m<module>\u001b[0;34m\u001b[0m\n\u001b[1;32m      1\u001b[0m \u001b[0mnombre\u001b[0m \u001b[0;34m=\u001b[0m \u001b[0;34m'Franklin'\u001b[0m\u001b[0;34m\u001b[0m\u001b[0;34m\u001b[0m\u001b[0m\n\u001b[0;32m----> 2\u001b[0;31m \u001b[0mnombre\u001b[0m\u001b[0;34m[\u001b[0m\u001b[0;36m0\u001b[0m\u001b[0;34m]\u001b[0m \u001b[0;34m=\u001b[0m \u001b[0;34m'f'\u001b[0m\u001b[0;34m\u001b[0m\u001b[0;34m\u001b[0m\u001b[0m\n\u001b[0m",
      "\u001b[0;31mTypeError\u001b[0m: 'str' object does not support item assignment"
     ]
    }
   ],
   "source": [
    "nombre = 'Franklin'\n",
    "nombre[0] = 'f'"
   ]
  },
  {
   "cell_type": "markdown",
   "metadata": {},
   "source": [
    "no funciona."
   ]
  },
  {
   "cell_type": "markdown",
   "metadata": {},
   "source": [
    "Los números y las cadenas son *inmutables*, es decir, no pueden modificarse. Las listas y los arreglos son *mutables* y pueden modificarse después de ser creadas.\n",
    "\n",
    "Las listas en Python pueden contener distintos tipos de elementos. Por ejemplo:"
   ]
  },
  {
   "cell_type": "code",
   "execution_count": 16,
   "metadata": {},
   "outputs": [],
   "source": [
    "edades = [10, 20.4, 'desconocido'] # enteros, decimales y cadenas"
   ]
  },
  {
   "cell_type": "markdown",
   "metadata": {},
   "source": [
    "Hay otras maneras de cambiar el contenido de una lista además de reasignando valores. Podemos agregar (*append*):"
   ]
  },
  {
   "cell_type": "code",
   "execution_count": 17,
   "metadata": {},
   "outputs": [
    {
     "name": "stdout",
     "output_type": "stream",
     "text": [
      "impares después de agregar un valor: [1, 3, 5, 7, 11]\n"
     ]
    }
   ],
   "source": [
    "impares.append(11)\n",
    "print('impares después de agregar un valor:', impares)"
   ]
  },
  {
   "cell_type": "code",
   "execution_count": 18,
   "metadata": {},
   "outputs": [
    {
     "name": "stdout",
     "output_type": "stream",
     "text": [
      "impares después de quitar el primer elemento: [3, 5, 7, 11]\n",
      "elemento eliminado: 1\n"
     ]
    }
   ],
   "source": [
    "elemento_eliminado = impares.pop(0)\n",
    "print('impares después de quitar el primer elemento:', impares)\n",
    "print('elemento eliminado:', elemento_eliminado)"
   ]
  },
  {
   "cell_type": "code",
   "execution_count": 19,
   "metadata": {},
   "outputs": [
    {
     "name": "stdout",
     "output_type": "stream",
     "text": [
      "impares al revés: [11, 7, 5, 3]\n"
     ]
    }
   ],
   "source": [
    "impares.reverse()\n",
    "print('impares al revés:', impares)"
   ]
  },
  {
   "cell_type": "markdown",
   "metadata": {},
   "source": [
    "Hay que tener cuidado cuando modificamos una lista. Si queremos hacer una copia de la lista y modificar la copia, es posible que queramos hacer lo siguiente:"
   ]
  },
  {
   "cell_type": "code",
   "execution_count": 20,
   "metadata": {},
   "outputs": [
    {
     "name": "stdout",
     "output_type": "stream",
     "text": [
      "lista primos [1, 3, 5, 7, 2]\n",
      "lista impares [1, 3, 5, 7, 2]\n"
     ]
    }
   ],
   "source": [
    "impares = [1, 3, 5, 7]\n",
    "primos = impares # Este es el paso mortal\n",
    "primos.append(2)\n",
    "print('lista primos', primos)\n",
    "print('lista impares', impares)"
   ]
  },
  {
   "cell_type": "markdown",
   "metadata": {},
   "source": [
    "¿Qué paso aquí? Solo queríamos modificar la lista `primos` pero también cambió la lista `impares`. Esto es porque Python guarda una lista en memoria y luego puede usar distintos nombres para referirse a la misma lista. Si solo queremos copiar una lista simple, podemos usar la función `list` de manera que no modifiquemos una lista que no queríamos modificar:"
   ]
  },
  {
   "cell_type": "code",
   "execution_count": 21,
   "metadata": {},
   "outputs": [
    {
     "name": "stdout",
     "output_type": "stream",
     "text": [
      "lista primos [1, 3, 5, 7, 2]\n",
      "lista impares [1, 3, 5, 7]\n"
     ]
    }
   ],
   "source": [
    "impares = [1, 3, 5, 7]\n",
    "primos = list(impares) # Este es el paso mortal\n",
    "primos.append(2)\n",
    "print('lista primos', primos)\n",
    "print('lista impares', impares)"
   ]
  },
  {
   "cell_type": "markdown",
   "metadata": {},
   "source": [
    "Se puede acceder a rebanadas o subconjuntos de listas y cadenas si especificamos los intervalos de valores entre `[]` como hicimos con los arreglos:"
   ]
  },
  {
   "cell_type": "code",
   "execution_count": 22,
   "metadata": {},
   "outputs": [
    {
     "name": "stdout",
     "output_type": "stream",
     "text": [
      "grupo: Drosophila\n",
      "especie: melanogaster\n",
      "autosoma: ['2', '3', '4']\n",
      "último: 4\n"
     ]
    }
   ],
   "source": [
    "binomial_nombre = 'Drosophila melanogaster'\n",
    "grupo = binomial_nombre[0:10]\n",
    "print('grupo:', grupo)\n",
    "\n",
    "especie = binomial_nombre[11:23]\n",
    "print('especie:', especie)\n",
    "\n",
    "chromosomas = ['X', 'Y', '2', '3', '4']\n",
    "autosomas = chromosomas[2:5]\n",
    "print('autosoma:', autosomas)\n",
    "\n",
    "ultimo = chromosomas[-1]\n",
    "print('último:', ultimo)\n"
   ]
  },
  {
   "cell_type": "markdown",
   "metadata": {},
   "source": [
    "#### Pon en práctica lo que aprendiste\n",
    "\n",
    "1. Usa las rebanadas para seleccionar solo los últimos 4 caracteres de una cadena y de una lista:"
   ]
  },
  {
   "cell_type": "code",
   "execution_count": 23,
   "metadata": {},
   "outputs": [],
   "source": [
    "cadena_para_rebanar = 'Observaciones del 27-abr-2013'\n",
    "lista_para_rebanar = ['fluor', 'cloro', 'bromo', \n",
    "                      'neodimio', 'disprosio', 'einstenio']"
   ]
  },
  {
   "cell_type": "markdown",
   "metadata": {},
   "source": [
    "¿Tu solución funciona sin importar si conoces de antemano o no la longitud de la cadena y la lista? Si la respuesta es no, intenta cambiar tu estrategia para que sea más robusta.\n",
    "\n",
    "HINT: Recuerda que los índices pueden ser negativos también."
   ]
  },
  {
   "cell_type": "code",
   "execution_count": 24,
   "metadata": {},
   "outputs": [],
   "source": [
    "# Respuesta\n",
    "\n"
   ]
  },
  {
   "cell_type": "markdown",
   "metadata": {},
   "source": [
    "### 5.1 En Resumen\n",
    "\n",
    "* `[valor1, valor2, valor3, ...]` crea una lista.\n",
    "* Las listas pueden contener cualquier objeto de Python, incluyendo otras listas.\n",
    "* Las listas están indizadas y se rebanan con `[]` como los arreglos y las cadenas.\n",
    "* Las listas son mutables (los valores de sus elementos puede cambiarse en el mismo lugar).\n",
    "* Las cadenas son inmutables (no les puedes cambiar un caracter)."
   ]
  },
  {
   "cell_type": "markdown",
   "metadata": {},
   "source": [
    "## 6. Analizar datos de muchos archivos\n",
    "\n",
    "#### Preguntas a responder\n",
    "* ¿Cómo puedo hacer las mismas operaciones en varios archivos distintos?\n",
    "\n",
    "### Objetivos\n",
    "* Usar una función de una biblioteca para obtener una lista de nombres de archivos que concuerdan con un patrón.\n",
    "* Escribir un ciclo `for` para procesar múltiples archivos."
   ]
  },
  {
   "cell_type": "markdown",
   "metadata": {},
   "source": [
    "Ya tenemos casi todo para procesar todos los archivos de datos que tenemos. Solo falta importar una biblioteca especial:"
   ]
  },
  {
   "cell_type": "code",
   "execution_count": 25,
   "metadata": {},
   "outputs": [],
   "source": [
    "import glob"
   ]
  },
  {
   "cell_type": "markdown",
   "metadata": {},
   "source": [
    "La biblioteca `glob` contiene una función, también llamada `glob`, que encuentra archivos y directorios (carpetas) cuyos nombres concuerdan con un patrón dado. Le proporcionamos esos partrones como cadenas: el caracter `*` representa cero o más caracteres, mientras que `?`representa solo un caracter. Podemos usarlos para obtener los nombres de todos los archivos CSV en la carpeta, o directorio, en la que se encuentra este notebook:"
   ]
  },
  {
   "cell_type": "code",
   "execution_count": 26,
   "metadata": {},
   "outputs": [
    {
     "name": "stdout",
     "output_type": "stream",
     "text": [
      "['temp_mensual_estacion01.csv', 'indiceUV_mensual_estacion01.csv', 'humedad_mensual_estacion01.csv', 'presion_mensual_estacion01.csv', 'viento_mensual_estacion01.csv', 'radiacion_mensual_estacion01.csv', 'precip_mensual_estacion01.csv']\n"
     ]
    }
   ],
   "source": [
    "print(glob.glob('*_mensual_estacion01.csv'))"
   ]
  },
  {
   "cell_type": "markdown",
   "metadata": {},
   "source": [
    "Como muestran estos ejemplos, el resultado de `glob.glob` es una lista de archivos y directorios en orden arbitrario. Así que podemos hacer un ciclo sobre esta lista para hacer algo con cada nombre de archivo. En este caso, ese algo es generar gráficas para todos los datos. Si queremos empezar por analizar los primeros cinco archivos por orden alfabético, podemos usar la función `sorted`(ordenado) para generar una lista ordenada alfabéticamente del output de `glob.glob`:"
   ]
  },
  {
   "cell_type": "code",
   "execution_count": 27,
   "metadata": {},
   "outputs": [
    {
     "name": "stdout",
     "output_type": "stream",
     "text": [
      "humedad_mensual_estacion01.csv\n"
     ]
    },
    {
     "data": {
      "image/png": "[encoded data removed]",
      "text/plain": [
       "<Figure size 720x216 with 3 Axes>"
      ]
     },
     "metadata": {
      "needs_background": "light"
     },
     "output_type": "display_data"
    },
    {
     "name": "stdout",
     "output_type": "stream",
     "text": [
      "indiceUV_mensual_estacion01.csv\n"
     ]
    },
    {
     "data": {
      "image/png": "[encoded data removed]",
      "text/plain": [
       "<Figure size 720x216 with 3 Axes>"
      ]
     },
     "metadata": {
      "needs_background": "light"
     },
     "output_type": "display_data"
    },
    {
     "name": "stdout",
     "output_type": "stream",
     "text": [
      "precip_mensual_estacion01.csv\n"
     ]
    },
    {
     "data": {
      "image/png": "[encoded data removed]",
      "text/plain": [
       "<Figure size 720x216 with 3 Axes>"
      ]
     },
     "metadata": {
      "needs_background": "light"
     },
     "output_type": "display_data"
    },
    {
     "name": "stdout",
     "output_type": "stream",
     "text": [
      "presion_mensual_estacion01.csv\n"
     ]
    },
    {
     "data": {
      "image/png": "[encoded data removed]",
      "text/plain": [
       "<Figure size 720x216 with 3 Axes>"
      ]
     },
     "metadata": {
      "needs_background": "light"
     },
     "output_type": "display_data"
    },
    {
     "name": "stdout",
     "output_type": "stream",
     "text": [
      "radiacion_mensual_estacion01.csv\n"
     ]
    },
    {
     "data": {
      "image/png": "[encoded data removed]",
      "text/plain": [
       "<Figure size 720x216 with 3 Axes>"
      ]
     },
     "metadata": {
      "needs_background": "light"
     },
     "output_type": "display_data"
    }
   ],
   "source": [
    "import glob\n",
    "import numpy\n",
    "import matplotlib.pyplot\n",
    "\n",
    "filenames = sorted(glob.glob('*_mensual_estacion01.csv'))\n",
    "filenames = filenames[0:5]\n",
    "for filename in filenames:\n",
    "    print(filename)\n",
    "\n",
    "    data = numpy.loadtxt(fname=filename, delimiter=',')\n",
    "\n",
    "    fig = matplotlib.pyplot.figure(figsize=(10.0, 3.0))\n",
    "\n",
    "    axes1 = fig.add_subplot(1, 3, 1)\n",
    "    axes2 = fig.add_subplot(1, 3, 2)\n",
    "    axes3 = fig.add_subplot(1, 3, 3)\n",
    "\n",
    "    axes1.set_ylabel('promedio')\n",
    "    axes1.plot(numpy.mean(data, axis=0))\n",
    "\n",
    "    axes2.set_ylabel('max')\n",
    "    axes2.plot(numpy.max(data, axis=0))\n",
    "\n",
    "    axes3.set_ylabel('min')\n",
    "    axes3.plot(numpy.min(data, axis=0))\n",
    "\n",
    "    fig.tight_layout()\n",
    "    matplotlib.pyplot.show()\n"
   ]
  },
  {
   "cell_type": "markdown",
   "metadata": {},
   "source": [
    "Si nos fjamos en los mínimos, vemos que hay muchos ceros en todas las variables. Es un poco sospechoso que la radiación solar mínima en el promedio mensual sea cero, o peor aún, ¡que la humedad mínima sea cero! Hay algo raro con estos datos que debemos averiguar..."
   ]
  },
  {
   "cell_type": "markdown",
   "metadata": {},
   "source": [
    "### 6.1 En resumen\n",
    "\n",
    "* Usa `glob.glob(patrón)` para crear una lista de nombres de archivos cuyos nombres concuerdan con el patrón.\n",
    "* Usa `*` en un patrón como comodín para representar cero o más caracteres, y `?` como comodín para representar un solo caracter."
   ]
  },
  {
   "cell_type": "markdown",
   "metadata": {},
   "source": [
    "## 7. Condicionales\n",
    "\n",
    "#### Preguntas a responder:\n",
    "* ¿Cómo puedo hacer que mis programas hagan distintas cosas con base en los valores de datos?\n",
    "\n",
    "#### Objetivos:\n",
    "\n",
    "* Utilizar los condicionales `if`, `elif` y `else`.\n",
    "* Evaluar correctamente expresiones que contienen `and` y `or`.\n",
    "\n",
    "Anteriormente descubrimos que había algo raro con los datos. ¿Cómo podemos usar Python para descubrir automáticamente los datos sospechosos y operar de distinta manera con ellos? En esta parte aprenderemos cómo escribir código que corra sólo cuando ciertas condiciones son ciertas."
   ]
  },
  {
   "cell_type": "markdown",
   "metadata": {},
   "source": [
    "Podemos pedirle a Python que ejecute ciertas acciones, dependiendo de alguna condición, utilizando el comando `if` (si). *Si (if) se cumple la condición, entonces haz ...* :"
   ]
  },
  {
   "cell_type": "code",
   "execution_count": 28,
   "metadata": {},
   "outputs": [
    {
     "name": "stdout",
     "output_type": "stream",
     "text": [
      "menor que\n",
      "fin\n"
     ]
    }
   ],
   "source": [
    "num = 37\n",
    "if num > 100:\n",
    "    print('mayor que')\n",
    "else:\n",
    "    print('menor que')\n",
    "print('fin')"
   ]
  },
  {
   "cell_type": "markdown",
   "metadata": {},
   "source": [
    "La segunda línea usa la palabra `if` para decirle a Python que vamos a hacer una elección. Si la condición que sigue después de `if` es verdadera, los comandos después del `if` (indentados dentro del `if`) se ejecutan y se imprime \"mayor que\". Si la prueba es falsa, se ejeculan los comandos después de `else`y entonces se imprime \"menor que\". Sólo se ejecuta una u otra opción antes de continuar con el programa y que se imprima \"fin\":\n",
    "\n",
    "<img src=\"images/diagrama_flujo_if.png\">"
   ]
  },
  {
   "cell_type": "markdown",
   "metadata": {},
   "source": [
    "No es absolutamente necesario tener un `else`. Si no hay `else`, Python simplemente no hace nada si la prueba es falsa:"
   ]
  },
  {
   "cell_type": "code",
   "execution_count": 29,
   "metadata": {},
   "outputs": [
    {
     "name": "stdout",
     "output_type": "stream",
     "text": [
      "Antes del condicional...\n",
      "... después del condicional\n"
     ]
    }
   ],
   "source": [
    "num = 53\n",
    "print('Antes del condicional...')\n",
    "if num > 100:\n",
    "    print(num, ' es más grande que 100')\n",
    "print('... después del condicional')"
   ]
  },
  {
   "cell_type": "markdown",
   "metadata": {},
   "source": [
    "También podemos encadenar varias pruebas usando `elif`, que es una abreviación de *else if* (si no). El siguiente programa usa `elif` para imprimir el signo de un número:"
   ]
  },
  {
   "cell_type": "code",
   "execution_count": 30,
   "metadata": {},
   "outputs": [
    {
     "name": "stdout",
     "output_type": "stream",
     "text": [
      "-3 es negativo\n"
     ]
    }
   ],
   "source": [
    "num = -3\n",
    "\n",
    "if num >0:\n",
    "    print(num, 'es positivo')\n",
    "elif num == 0:\n",
    "    print(num, 'es cero')\n",
    "else:\n",
    "    print(num, 'es negativo')"
   ]
  },
  {
   "cell_type": "markdown",
   "metadata": {},
   "source": [
    "Nota que para probar igualdad usamos `==` porque `=`es solamente para asignar valores.\n",
    "\n",
    "  También podemos combinar pruebas usando `and` (y) y `or` (o). La prueba `and` es verdadera solo si ambas partes son verdaderas:"
   ]
  },
  {
   "cell_type": "code",
   "execution_count": 31,
   "metadata": {},
   "outputs": [
    {
     "name": "stdout",
     "output_type": "stream",
     "text": [
      "al menos una parte es falsa\n"
     ]
    }
   ],
   "source": [
    "if (1 > 0) and (-1 > 0):\n",
    "    print('ambas partes son verdaderas')\n",
    "else:\n",
    "    print('al menos una parte es falsa')"
   ]
  },
  {
   "cell_type": "markdown",
   "metadata": {},
   "source": [
    "Mientras que `or` es verdadero si al menos una parte es verdadera:"
   ]
  },
  {
   "cell_type": "code",
   "execution_count": 32,
   "metadata": {},
   "outputs": [
    {
     "name": "stdout",
     "output_type": "stream",
     "text": [
      "al menos una parte es verdadera\n"
     ]
    }
   ],
   "source": [
    "if (1 < 0) or (-1 < 0):\n",
    "    print('al menos una parte es verdadera')\n"
   ]
  },
  {
   "cell_type": "markdown",
   "metadata": {},
   "source": [
    "#### Verdadero y Falso\n",
    "Las palabras `True` (verdadero) y `False` (falso) son especiales en Python. Se llaman `booleanos` y representan la \"verdad\" en los valores. Una expresión como `1<0` regresa el valor `False`, mientras que `-1<0`regresa el valor `True`."
   ]
  },
  {
   "cell_type": "markdown",
   "metadata": {},
   "source": [
    "### Revisemos nuestros datos\n",
    "\n",
    "Anteriormente vimos que el mínimo mensual de los datos para todos los años era cero. Esto es sospechoso porque ninguna variable de las que estamos analizando debería ser cero, salvo la precipitación (temperatura, presión, radiación, índice UV y humedad). ¿Puedes pensar por qué no son cero? ¿Qué crees que esté pasando aquí?\n",
    "\n",
    "Probablemente hay meses en donde no hubo mediciones y se reportaron como ceros. Cuando no hay mediciones o no son confiables, regularmente se elige una bandera o etiqueta especial para indicar estos valores faltantes o *missing values*. Se pueden poner valores fuera del rango esperado de mediciones como 999999, o NaN (Not a Number). NaN es una manera de decirle a la computadora que no hay número asignado.\n",
    "\n",
    "Revisemos en qué años hay valores cero en la radiación:"
   ]
  },
  {
   "cell_type": "code",
   "execution_count": 33,
   "metadata": {},
   "outputs": [
    {
     "name": "stdout",
     "output_type": "stream",
     "text": [
      "Hay ceros en el año  0\n",
      "No hay ceros en el año  1\n",
      "Hay ceros en el año  2\n",
      "No hay ceros en el año  3\n",
      "Hay ceros en el año  4\n",
      "No hay ceros en el año  5\n",
      "No hay ceros en el año  6\n",
      "No hay ceros en el año  7\n"
     ]
    }
   ],
   "source": [
    "# Abrimos el archivo de mediciones de radiación solar\n",
    "radiacion = numpy.loadtxt(fname='radiacion_mensual_estacion01.csv', delimiter=',')\n",
    "\n",
    "# Ciclo sobre los 8 años de datos (filas)\n",
    "for fila in range(8):\n",
    "    # Prueba si el valor mínimo en la fila #fila es cero\n",
    "    if numpy.min(radiacion[fila,:]) == 0:\n",
    "        # Si la pueba es verdadera imprime esto:\n",
    "        print('Hay ceros en el año ', fila)\n",
    "    else:\n",
    "        # Si la prueba es falsa imprime esto:\n",
    "        print('No hay ceros en el año ', fila)"
   ]
  },
  {
   "cell_type": "markdown",
   "metadata": {},
   "source": [
    "Por lo tanto, podemos descartar los datos para los años 0 (2011), 2 (2013), 4 (2015). "
   ]
  },
  {
   "cell_type": "markdown",
   "metadata": {},
   "source": [
    "#### Pon en práctica lo que aprendiste\n",
    "\n",
    "1. Escribe un ciclo que cuente el número de vocales en una cadena.\n",
    "2. Comprueba que sirve probando distintas palabras y oraciones."
   ]
  },
  {
   "cell_type": "code",
   "execution_count": null,
   "metadata": {},
   "outputs": [],
   "source": []
  },
  {
   "cell_type": "markdown",
   "metadata": {},
   "source": [
    "### 7.1 En resumen\n",
    "* Usa `if condición:` para empezar un condicional, `elif condición:` para agregar pruebas adicionales y `else:` para agregar una acción default.\n",
    "* Las acciones a realizar dentro de un condicional deben estar indentados.\n",
    "* Usa `==` para probar que dos cosas son iguales.\n",
    "* `X and Y` es verdadero solo si `X`y `Y` son ambos verdaderos.\n",
    "* `X or Y` es verdadero si alguno o ambos `X` o `Y` son verdaderos.\n",
    "* El cero, una lista vacía, o una cadena vacía se consideran falsos; todos los demás números, cadenas y listas son verdaderos.\n",
    "* `True` y `False` representan valores de verdad verdadero y falso.\n"
   ]
  },
  {
   "cell_type": "markdown",
   "metadata": {},
   "source": [
    "## 8. Funciones\n",
    "#### Preguntas a resolver:\n",
    "* ¿Cómo puedo definir funciones nuevas?\n",
    "* ¿Cuál es la diferencia entre definir una función y llamar a una función?\n",
    "* ¿Qué pasa cuando llamo a una función?\n",
    "\n",
    "#### Objetivos:\n",
    "* Definir una función que toma parámetros.\n",
    "* Regresar un valor de una función.\n",
    "* Probar y depurar (debug) una función.\n",
    "* Definir valores por omisión para una función.\n",
    "* Explicar por qué debemos dividir los programas en unidades pequeñas con propósitos únicos (funciones).\n",
    "\n",
    "Hasta ahora, hemos escrito código para graficar algunas estadísticas de nuestros datos, hemos aprendido a abrir y analizar todos nuenstros archivos en un solo ciclo, a hacer que Python haga cosas con los datos dependiendo de alguna condición, pero el código se está volviendo largo y complicado. Imagina que tuviéramos cientos de archivos y que no quisieramos generar una gráfica de cada uno. Comentar las líneas de código que grafican los datos es tedioso y poco robusto. Cortar y pegar tampoco es una buena solución... Lo que necesitamos es una forma de empaquetar nuestro código para que sea fácil de reutilizar y esa solución es hacer \"funciones\". Esta es una manera rápida de ejecutar una y otra vez pedazos más largos de código. \n",
    "\n",
    "Empecemos definiendo una función `fahr_a_celsius` que convierte temperaturas en escala Fahrenheit a Celsius:"
   ]
  },
  {
   "cell_type": "code",
   "execution_count": 34,
   "metadata": {},
   "outputs": [],
   "source": [
    "def fahr_a_celsius(temp):\n",
    "    return((temp - 32) * (5/9))"
   ]
  },
  {
   "cell_type": "markdown",
   "metadata": {},
   "source": [
    "<img src=\"images/python-function.png\">"
   ]
  },
  {
   "cell_type": "markdown",
   "metadata": {},
   "source": [
    "La definición comienza con `def` seguido del nombre que queremos darle a la función (`fahr_a_celsius`) y entre paréntesis una lista de nombres de parámetros (`temp`). El cuerpo de la función - los comandos que se ejecutan cuando corre la función - deben estar indentados. El cuerpo concluye con `return` seguido del valor que regresará la función.\n",
    "\n",
    "Cuando llamamos a la función, los valores que le pasamos de le asignan a las variables que se usarán dentro de la función. Dentro de la función, usamos la expresión `return` regresar el resultado a quien lo pidió.\n",
    "\n",
    "Corramos nuestra función:"
   ]
  },
  {
   "cell_type": "code",
   "execution_count": 35,
   "metadata": {},
   "outputs": [
    {
     "data": {
      "text/plain": [
       "0.0"
      ]
     },
     "execution_count": 35,
     "metadata": {},
     "output_type": "execute_result"
    }
   ],
   "source": [
    "fahr_a_celsius(32)"
   ]
  },
  {
   "cell_type": "markdown",
   "metadata": {},
   "source": [
    "Este comando llama a la función, usando \"32\" como input y regresa el valor de la función.\n",
    "\n",
    "Llamar a nuestra función es lo mismo que llamar a cualquier función que hemos usado antes:"
   ]
  },
  {
   "cell_type": "code",
   "execution_count": 36,
   "metadata": {},
   "outputs": [
    {
     "name": "stdout",
     "output_type": "stream",
     "text": [
      "El papel se quema a: 232.7777777777778 C\n",
      "El punto de ebullición del agua es: 100.0 C\n"
     ]
    }
   ],
   "source": [
    "print('El papel se quema a:', fahr_a_celsius(451), 'C')\n",
    "print('El punto de ebullición del agua es:', fahr_a_celsius(212), 'C')"
   ]
  },
  {
   "cell_type": "markdown",
   "metadata": {},
   "source": [
    "### 8.1 Composición de funciones\n",
    "\n",
    "Ahora escibamos una función que transforme de Celsius a Kelvin:"
   ]
  },
  {
   "cell_type": "code",
   "execution_count": 37,
   "metadata": {},
   "outputs": [
    {
     "name": "stdout",
     "output_type": "stream",
     "text": [
      "El punto de fusión del agua en Kelvin: 273.15\n"
     ]
    }
   ],
   "source": [
    "def celsius_a_kelvin(temp_c):\n",
    "    return temp_c + 273.15\n",
    "\n",
    "print('El punto de fusión del agua en Kelvin:', celsius_a_kelvin(0.))\n"
   ]
  },
  {
   "cell_type": "markdown",
   "metadata": {},
   "source": [
    "¿Qué hay de convertir de Fahrenheit a Kelvin? Podríamos escribir otra función pero no es necesario. Podemos componer dos funciones (como en su clase de matemáticas) que ya creamos:"
   ]
  },
  {
   "cell_type": "code",
   "execution_count": 38,
   "metadata": {},
   "outputs": [
    {
     "name": "stdout",
     "output_type": "stream",
     "text": [
      "El punto de ebullición  del agua en Kelvin: 373.15\n"
     ]
    }
   ],
   "source": [
    "def fahr_a_kelvin(temp_f):\n",
    "    temp_c = fahr_a_celsius(temp_f)\n",
    "    temp_k = celsius_a_kelvin(temp_c)\n",
    "    return temp_k\n",
    "\n",
    "print('El punto de ebullición  del agua en Kelvin:', fahr_a_kelvin(212.0))\n"
   ]
  },
  {
   "cell_type": "markdown",
   "metadata": {},
   "source": [
    "Esta es una probadita de cómo se contruyen programas más grandes: definimos funciones básicas y las combinamos en pedazos más grandes. En la vida real, las funciones son un poco mas largas que  las que definimos aquí - unas pocas decenas de líneas - pero no deben ser mucho más largas que eso."
   ]
  },
  {
   "cell_type": "markdown",
   "metadata": {},
   "source": [
    "### 8.2 Una limpiada...\n",
    "\n",
    "Ahora que sabemos como empacar pedazos de código, podemos hacer que nuestro análisis de los datos PEMBU sea más fácil de leer y de reusar. Hagámos una función `visualiza` que genere nuestras gráficas:"
   ]
  },
  {
   "cell_type": "code",
   "execution_count": 39,
   "metadata": {},
   "outputs": [],
   "source": [
    "def visualiza(filename):\n",
    "\n",
    "    data = numpy.loadtxt(fname=filename, delimiter=',')\n",
    "\n",
    "    fig = matplotlib.pyplot.figure(figsize=(10.0, 3.0))\n",
    "\n",
    "    axes1 = fig.add_subplot(1, 3, 1)\n",
    "    axes2 = fig.add_subplot(1, 3, 2)\n",
    "    axes3 = fig.add_subplot(1, 3, 3)\n",
    "\n",
    "    axes1.set_ylabel('average')\n",
    "    axes1.plot(numpy.mean(data, axis=0))\n",
    "\n",
    "    axes2.set_ylabel('max')\n",
    "    axes2.plot(numpy.max(data, axis=0))\n",
    "\n",
    "    axes3.set_ylabel('min')\n",
    "    axes3.plot(numpy.min(data, axis=0))\n",
    "\n",
    "    fig.tight_layout()\n",
    "    matplotlib.pyplot.show()"
   ]
  },
  {
   "cell_type": "markdown",
   "metadata": {},
   "source": [
    "y otra función `detecta_problemas` que revisa si tenemos esos ceros extraños cuando faltan mediciones en los archivos:"
   ]
  },
  {
   "cell_type": "code",
   "execution_count": 40,
   "metadata": {},
   "outputs": [],
   "source": [
    "def detecta_problemas(filename):\n",
    "    \n",
    "    data = numpy.loadtxt(fname=filename, delimiter=',')\n",
    "    dimensiones = data.shape\n",
    "    for fila in range(dimensiones[0]):\n",
    "        if numpy.min(data[fila,:]) == 0:\n",
    "            print('Hay ceros en el año ', fila, 'archivo', filename)\n",
    "        "
   ]
  },
  {
   "cell_type": "markdown",
   "metadata": {},
   "source": [
    "Pero, ¿no olvidamos el `return`? Ah, en Python no es neceario incluir un `return`. La funciones pueden usarse con el simple propósito de agrupar código con una función específica.\n",
    "\n",
    "Ahora, en vez de juntar el código en un ciclo gigante, podemos leer y reusar ambas ideas separadas. Podemos reproducir lo que hemos hecho en este notebook en un código mucho más simple:"
   ]
  },
  {
   "cell_type": "code",
   "execution_count": 41,
   "metadata": {},
   "outputs": [
    {
     "name": "stdout",
     "output_type": "stream",
     "text": [
      "humedad_mensual_estacion01.csv\n"
     ]
    },
    {
     "data": {
      "image/png": "[encoded data removed]",
      "text/plain": [
       "<Figure size 720x216 with 3 Axes>"
      ]
     },
     "metadata": {
      "needs_background": "light"
     },
     "output_type": "display_data"
    },
    {
     "name": "stdout",
     "output_type": "stream",
     "text": [
      "Hay ceros en el año  0 archivo humedad_mensual_estacion01.csv\n",
      "Hay ceros en el año  2 archivo humedad_mensual_estacion01.csv\n",
      "Hay ceros en el año  4 archivo humedad_mensual_estacion01.csv\n",
      "indiceUV_mensual_estacion01.csv\n"
     ]
    },
    {
     "data": {
      "image/png": "[encoded data removed]",
      "text/plain": [
       "<Figure size 720x216 with 3 Axes>"
      ]
     },
     "metadata": {
      "needs_background": "light"
     },
     "output_type": "display_data"
    },
    {
     "name": "stdout",
     "output_type": "stream",
     "text": [
      "Hay ceros en el año  0 archivo indiceUV_mensual_estacion01.csv\n",
      "Hay ceros en el año  2 archivo indiceUV_mensual_estacion01.csv\n",
      "Hay ceros en el año  4 archivo indiceUV_mensual_estacion01.csv\n",
      "precip_mensual_estacion01.csv\n"
     ]
    },
    {
     "data": {
      "image/png": "[encoded data removed]",
      "text/plain": [
       "<Figure size 720x216 with 3 Axes>"
      ]
     },
     "metadata": {
      "needs_background": "light"
     },
     "output_type": "display_data"
    },
    {
     "name": "stdout",
     "output_type": "stream",
     "text": [
      "Hay ceros en el año  0 archivo precip_mensual_estacion01.csv\n",
      "Hay ceros en el año  1 archivo precip_mensual_estacion01.csv\n",
      "Hay ceros en el año  2 archivo precip_mensual_estacion01.csv\n",
      "Hay ceros en el año  4 archivo precip_mensual_estacion01.csv\n",
      "Hay ceros en el año  5 archivo precip_mensual_estacion01.csv\n",
      "Hay ceros en el año  6 archivo precip_mensual_estacion01.csv\n",
      "Hay ceros en el año  7 archivo precip_mensual_estacion01.csv\n"
     ]
    }
   ],
   "source": [
    "archivos = sorted(glob.glob('*_mensual_estacion01.csv'))\n",
    "\n",
    "for archivo in archivos[:3]:\n",
    "    print(archivo)\n",
    "    visualiza(archivo)\n",
    "    detecta_problemas(archivo)\n"
   ]
  },
  {
   "cell_type": "markdown",
   "metadata": {},
   "source": [
    " ### Definición de parámetros por omisión (default)\n",
    " \n",
    " Hasta ahora hemos pasado parámetros de dos formas: directamente como en `type(data)`, y por nombre, como en `numpy.loadtxt(fname=algo.csv', delimiter=',')`. De hecho, podemos pasar el nombre del archivo a `loadtxt` sin usar `fname=`:"
   ]
  },
  {
   "cell_type": "code",
   "execution_count": 42,
   "metadata": {},
   "outputs": [
    {
     "data": {
      "text/plain": [
       "array([[0.   , 0.   , 0.   , 0.   , 0.   , 0.   , 0.   , 0.173, 0.021,\n",
       "        0.035, 0.014, 0.   ],\n",
       "       [0.005, 0.021, 0.026, 0.001, 0.003, 0.079, 0.113, 0.084, 0.064,\n",
       "        0.012, 0.007, 0.   ],\n",
       "       [0.   , 0.001, 0.001, 0.014, 0.032, 0.069, 0.069, 0.115, 0.135,\n",
       "        0.071, 0.033, 0.   ],\n",
       "       [0.001, 0.006, 0.005, 0.015, 0.068, 0.085, 0.061, 0.078, 0.07 ,\n",
       "        0.067, 0.006, 0.015],\n",
       "       [0.   , 0.003, 0.   , 0.009, 0.103, 0.063, 0.03 , 0.068, 0.098,\n",
       "        0.009, 0.001, 0.   ],\n",
       "       [0.005, 0.   , 0.013, 0.009, 0.028, 0.06 , 0.092, 0.076, 0.081,\n",
       "        0.01 , 0.042, 0.   ],\n",
       "       [0.   , 0.   , 0.012, 0.016, 0.048, 0.085, 0.165, 0.126, 0.126,\n",
       "        0.   , 0.   , 0.   ],\n",
       "       [0.008, 0.001, 0.008, 0.02 , 0.024, 0.059, 0.063, 0.107, 0.065,\n",
       "        0.046, 0.012, 0.   ]])"
      ]
     },
     "execution_count": 42,
     "metadata": {},
     "output_type": "execute_result"
    }
   ],
   "source": [
    "numpy.loadtxt('precip_mensual_estacion01.csv', delimiter=',')"
   ]
  },
  {
   "cell_type": "markdown",
   "metadata": {},
   "source": [
    "pero debemos decir `delimiter=`:"
   ]
  },
  {
   "cell_type": "code",
   "execution_count": 43,
   "metadata": {},
   "outputs": [
    {
     "ename": "SyntaxError",
     "evalue": "unexpected EOF while parsing (<unknown>, line 1)",
     "output_type": "error",
     "traceback": [
      "Traceback \u001b[0;36m(most recent call last)\u001b[0m:\n",
      "  File \u001b[1;32m\"/Users/Karina/anaconda3/lib/python3.7/site-packages/IPython/core/interactiveshell.py\"\u001b[0m, line \u001b[1;32m3331\u001b[0m, in \u001b[1;35mrun_code\u001b[0m\n    exec(code_obj, self.user_global_ns, self.user_ns)\n",
      "  File \u001b[1;32m\"<ipython-input-43-c12d5d880ab3>\"\u001b[0m, line \u001b[1;32m1\u001b[0m, in \u001b[1;35m<module>\u001b[0m\n    numpy.loadtxt('precip_mensual_estacion01.csv', ',')\n",
      "  File \u001b[1;32m\"/Users/Karina/anaconda3/lib/python3.7/site-packages/numpy/lib/npyio.py\"\u001b[0m, line \u001b[1;32m1080\u001b[0m, in \u001b[1;35mloadtxt\u001b[0m\n    dtype = np.dtype(dtype)\n",
      "  File \u001b[1;32m\"/Users/Karina/anaconda3/lib/python3.7/site-packages/numpy/core/_internal.py\"\u001b[0m, line \u001b[1;32m199\u001b[0m, in \u001b[1;35m_commastring\u001b[0m\n    newitem = (dtype, ast.literal_eval(repeats))\n",
      "  File \u001b[1;32m\"/Users/Karina/anaconda3/lib/python3.7/ast.py\"\u001b[0m, line \u001b[1;32m46\u001b[0m, in \u001b[1;35mliteral_eval\u001b[0m\n    node_or_string = parse(node_or_string, mode='eval')\n",
      "\u001b[0;36m  File \u001b[0;32m\"/Users/Karina/anaconda3/lib/python3.7/ast.py\"\u001b[0;36m, line \u001b[0;32m35\u001b[0;36m, in \u001b[0;35mparse\u001b[0;36m\u001b[0m\n\u001b[0;31m    return compile(source, filename, mode, PyCF_ONLY_AST)\u001b[0m\n",
      "\u001b[0;36m  File \u001b[0;32m\"<unknown>\"\u001b[0;36m, line \u001b[0;32m1\u001b[0m\n\u001b[0;31m    ,\u001b[0m\n\u001b[0m    ^\u001b[0m\n\u001b[0;31mSyntaxError\u001b[0m\u001b[0;31m:\u001b[0m unexpected EOF while parsing\n"
     ]
    }
   ],
   "source": [
    "numpy.loadtxt('precip_mensual_estacion01.csv', ',')"
   ]
  },
  {
   "cell_type": "markdown",
   "metadata": {},
   "source": [
    "Para enteder qué está pasando veamos la ayuda de la función `loadtxt`:"
   ]
  },
  {
   "cell_type": "code",
   "execution_count": 44,
   "metadata": {},
   "outputs": [
    {
     "name": "stdout",
     "output_type": "stream",
     "text": [
      "Help on function loadtxt in module numpy:\n",
      "\n",
      "loadtxt(fname, dtype=<class 'float'>, comments='#', delimiter=None, converters=None, skiprows=0, usecols=None, unpack=False, ndmin=0, encoding='bytes', max_rows=None)\n",
      "    Load data from a text file.\n",
      "    \n",
      "    Each row in the text file must have the same number of values.\n",
      "    \n",
      "    Parameters\n",
      "    ----------\n",
      "    fname : file, str, or pathlib.Path\n",
      "        File, filename, or generator to read.  If the filename extension is\n",
      "        ``.gz`` or ``.bz2``, the file is first decompressed. Note that\n",
      "        generators should return byte strings.\n",
      "    dtype : data-type, optional\n",
      "        Data-type of the resulting array; default: float.  If this is a\n",
      "        structured data-type, the resulting array will be 1-dimensional, and\n",
      "        each row will be interpreted as an element of the array.  In this\n",
      "        case, the number of columns used must match the number of fields in\n",
      "        the data-type.\n",
      "    comments : str or sequence of str, optional\n",
      "        The characters or list of characters used to indicate the start of a\n",
      "        comment. None implies no comments. For backwards compatibility, byte\n",
      "        strings will be decoded as 'latin1'. The default is '#'.\n",
      "    delimiter : str, optional\n",
      "        The string used to separate values. For backwards compatibility, byte\n",
      "        strings will be decoded as 'latin1'. The default is whitespace.\n",
      "    converters : dict, optional\n",
      "        A dictionary mapping column number to a function that will parse the\n",
      "        column string into the desired value.  E.g., if column 0 is a date\n",
      "        string: ``converters = {0: datestr2num}``.  Converters can also be\n",
      "        used to provide a default value for missing data (but see also\n",
      "        `genfromtxt`): ``converters = {3: lambda s: float(s.strip() or 0)}``.\n",
      "        Default: None.\n",
      "    skiprows : int, optional\n",
      "        Skip the first `skiprows` lines, including comments; default: 0.\n",
      "    usecols : int or sequence, optional\n",
      "        Which columns to read, with 0 being the first. For example,\n",
      "        ``usecols = (1,4,5)`` will extract the 2nd, 5th and 6th columns.\n",
      "        The default, None, results in all columns being read.\n",
      "    \n",
      "        .. versionchanged:: 1.11.0\n",
      "            When a single column has to be read it is possible to use\n",
      "            an integer instead of a tuple. E.g ``usecols = 3`` reads the\n",
      "            fourth column the same way as ``usecols = (3,)`` would.\n",
      "    unpack : bool, optional\n",
      "        If True, the returned array is transposed, so that arguments may be\n",
      "        unpacked using ``x, y, z = loadtxt(...)``.  When used with a structured\n",
      "        data-type, arrays are returned for each field.  Default is False.\n",
      "    ndmin : int, optional\n",
      "        The returned array will have at least `ndmin` dimensions.\n",
      "        Otherwise mono-dimensional axes will be squeezed.\n",
      "        Legal values: 0 (default), 1 or 2.\n",
      "    \n",
      "        .. versionadded:: 1.6.0\n",
      "    encoding : str, optional\n",
      "        Encoding used to decode the inputfile. Does not apply to input streams.\n",
      "        The special value 'bytes' enables backward compatibility workarounds\n",
      "        that ensures you receive byte arrays as results if possible and passes\n",
      "        'latin1' encoded strings to converters. Override this value to receive\n",
      "        unicode arrays and pass strings as input to converters.  If set to None\n",
      "        the system default is used. The default value is 'bytes'.\n",
      "    \n",
      "        .. versionadded:: 1.14.0\n",
      "    max_rows : int, optional\n",
      "        Read `max_rows` lines of content after `skiprows` lines. The default\n",
      "        is to read all the lines.\n",
      "    \n",
      "        .. versionadded:: 1.16.0\n",
      "    \n",
      "    Returns\n",
      "    -------\n",
      "    out : ndarray\n",
      "        Data read from the text file.\n",
      "    \n",
      "    See Also\n",
      "    --------\n",
      "    load, fromstring, fromregex\n",
      "    genfromtxt : Load data with missing values handled as specified.\n",
      "    scipy.io.loadmat : reads MATLAB data files\n",
      "    \n",
      "    Notes\n",
      "    -----\n",
      "    This function aims to be a fast reader for simply formatted files.  The\n",
      "    `genfromtxt` function provides more sophisticated handling of, e.g.,\n",
      "    lines with missing values.\n",
      "    \n",
      "    .. versionadded:: 1.10.0\n",
      "    \n",
      "    The strings produced by the Python float.hex method can be used as\n",
      "    input for floats.\n",
      "    \n",
      "    Examples\n",
      "    --------\n",
      "    >>> from io import StringIO   # StringIO behaves like a file object\n",
      "    >>> c = StringIO(\"0 1\\n2 3\")\n",
      "    >>> np.loadtxt(c)\n",
      "    array([[0., 1.],\n",
      "           [2., 3.]])\n",
      "    \n",
      "    >>> d = StringIO(\"M 21 72\\nF 35 58\")\n",
      "    >>> np.loadtxt(d, dtype={'names': ('gender', 'age', 'weight'),\n",
      "    ...                      'formats': ('S1', 'i4', 'f4')})\n",
      "    array([(b'M', 21, 72.), (b'F', 35, 58.)],\n",
      "          dtype=[('gender', 'S1'), ('age', '<i4'), ('weight', '<f4')])\n",
      "    \n",
      "    >>> c = StringIO(\"1,0,2\\n3,0,4\")\n",
      "    >>> x, y = np.loadtxt(c, delimiter=',', usecols=(0, 2), unpack=True)\n",
      "    >>> x\n",
      "    array([1., 3.])\n",
      "    >>> y\n",
      "    array([2., 4.])\n",
      "    \n",
      "    This example shows how `converters` can be used to convert a field\n",
      "    with a trailing minus sign into a negative number.\n",
      "    \n",
      "    >>> s = StringIO('10.01 31.25-\\n19.22 64.31\\n17.57- 63.94')\n",
      "    >>> def conv(fld):\n",
      "    ...     return -float(fld[:-1]) if fld.endswith(b'-') else float(fld)\n",
      "    ...\n",
      "    >>> np.loadtxt(s, converters={0: conv, 1: conv})\n",
      "    array([[ 10.01, -31.25],\n",
      "           [ 19.22,  64.31],\n",
      "           [-17.57,  63.94]])\n",
      "\n"
     ]
    }
   ],
   "source": [
    "help(numpy.loadtxt)"
   ]
  },
  {
   "cell_type": "markdown",
   "metadata": {},
   "source": [
    "Hay mucha información pero en las dos primeras lineas vemos: \n",
    "\n",
    "loadtxt(fname, dtype=<class 'float'>, comments='#', delimiter=None, converters=None, skiprows=0, usecols=None, unpack=False, ndmin=0, encoding='bytes', max_rows=None)\n",
    "\n",
    "Esto nos dice que `loadtxt`tiene un parámetro llamado `fname`que no tiene un valor default y ocho parámetros que sí tienen valor default. Esto lo sabemos porque el valor default está después del `=`. `fname` no tiene esto por lo tanto la función siempre espera que la llames pasándole este parámetro. Si no especificas los otros ocho, entonces éstos tomarán el valor default."
   ]
  },
  {
   "cell_type": "markdown",
   "metadata": {},
   "source": [
    "**DOCUMENTACIÓN**: Podemos agregar información de ayuda a la función de la siguente forma:"
   ]
  },
  {
   "cell_type": "code",
   "execution_count": 45,
   "metadata": {},
   "outputs": [
    {
     "name": "stdout",
     "output_type": "stream",
     "text": [
      "El punto de ebullición  del agua en Kelvin: 373.15\n"
     ]
    }
   ],
   "source": [
    "def fahr_a_kelvin(temp_f):\n",
    "    '''Esta función convierte el valor temp_f de Fahrenheit a Kelvin'''\n",
    "    temp_c = fahr_a_celsius(temp_f)\n",
    "    temp_k = celsius_a_kelvin(temp_c)\n",
    "    return temp_k\n",
    "\n",
    "print('El punto de ebullición  del agua en Kelvin:', fahr_a_kelvin(212.0))\n"
   ]
  },
  {
   "cell_type": "code",
   "execution_count": 46,
   "metadata": {},
   "outputs": [
    {
     "name": "stdout",
     "output_type": "stream",
     "text": [
      "Help on function fahr_a_kelvin in module __main__:\n",
      "\n",
      "fahr_a_kelvin(temp_f)\n",
      "    Esta función convierte el valor temp_f de Fahrenheit a Kelvin\n",
      "\n"
     ]
    }
   ],
   "source": [
    "help(fahr_a_kelvin)"
   ]
  },
  {
   "cell_type": "markdown",
   "metadata": {},
   "source": [
    "#### Pon en práctica lo que aprendiste\n",
    "\n",
    "1. Dado el siguiente código:"
   ]
  },
  {
   "cell_type": "code",
   "execution_count": 47,
   "metadata": {},
   "outputs": [],
   "source": [
    "def func(a, b=3, c=6):\n",
    "    print('a: ', a, 'b: ', b, 'c:', c)"
   ]
  },
  {
   "cell_type": "markdown",
   "metadata": {},
   "source": [
    "¿Cuál será el resultado de correr?\n",
    "\n",
    "`func(-1, 2)`"
   ]
  },
  {
   "cell_type": "markdown",
   "metadata": {},
   "source": [
    "2. Si la variable `s` es una cadena, entonces `s[0]` es el primer caracter de la cadena y `s[-1]` es el último. Escribe una función que se llame `extremos` que regrese una cadena constituida por el primer y úlimo elementos del input de la función. La llamada a tu función deberá verse como:\n",
    "\n",
    "`print(extremos('helio'))`\n",
    "\n",
    "Output:\n",
    " `hm`"
   ]
  },
  {
   "cell_type": "markdown",
   "metadata": {},
   "source": [
    "### 8.3 En resumen\n",
    "\n",
    "* Define una función usando `def nombre_de_función(parámetros)`\n",
    "* El cuerpo de la función debe estar indentado.\n",
    "* Llama a una función usando `nombre_de_función(valor)`\n",
    "* Las variables definidas dentro de una función solo pueden ser vistas y usadas dentro de esa función.\n",
    "* Si una variable no está definida dentro de la función, Python buscará la definición dentro del código que se encuentra antes de la llamada a la función.\n",
    "* Usa `help(algo)` para ver la ayuda de algo.\n",
    "* Agrega texto para documentar tu función usando `''' texto '''`.\n",
    "* Especifica valores por default para los parámetros usando `parámetro=valor default` en la lista de parámetros dentro de la definición de la función.\n",
    "* Los parámetros se pueden pasar a una función basados en el nombre, la posición u omitiéndolos, en cuyo caso se usa el valor default."
   ]
  }
 ],
 "metadata": {
  "kernelspec": {
   "display_name": "Python 3",
   "language": "python",
   "name": "python3"
  },
  "language_info": {
   "codemirror_mode": {
    "name": "ipython",
    "version": 3
   },
   "file_extension": ".py",
   "mimetype": "text/x-python",
   "name": "python",
   "nbconvert_exporter": "python",
   "pygments_lexer": "ipython3",
   "version": "3.7.6"
  }
 },
 "nbformat": 4,
 "nbformat_minor": 4
}
