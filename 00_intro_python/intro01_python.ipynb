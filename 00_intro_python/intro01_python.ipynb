{
 "cells": [
  {
   "cell_type": "markdown",
   "metadata": {},
   "source": [
    "# Introducción a la programación con Python\n",
    "\n",
    "## Jupyter Notebook 1 para Taller de Modelación Numérica 2022-2\n",
    "### Facultad de Ciencias, UNAM\n",
    "\n",
    "El material de este \"notebook\" está basado en la lección [Programming with Python](https://swcarpentry.github.io/python-novice-inflammation/) de los [Software Carpentry Workshops](https://software-carpentry.org/), publicada bajo la licencia [Creative Commons - Attribution License](https://software-carpentry.org/license/). Traducción y modificaciones por Karina Ramos Musalem. "
   ]
  },
  {
   "cell_type": "markdown",
   "metadata": {},
   "source": [
    "## Antes de empezar\n",
    "\n",
    "Al terminar este notebook (intro01_python):\n",
    "* Sabrán qué es un jupyter notebook, cómo se abre y cómo se usa. \n",
    "* Sabrán qué es un arreglo de numpy, los índices de un arreglo y el orden de los arreglos. \n",
    "* Aprenderán a calcular max, min, promedio y desviación estándar de un arreglo. \n",
    "* Aprenderán a abrir un archivo de datos tabulados (csv).\n",
    "* Graficarán un arreglo usando matplotlib, y aprenderán a editar los nombres de los ejes, título, etc.\n",
    "\n",
    "### Jupyter notebooks\n",
    "\n",
    "Los [Jupyter notebooks](https://jupyter.org/) son una aplicación web de código abierto que combinan celdas de código, figuras, ecuaciones y texto. Soportan varios lenguajes de programación como Python, R y Julia entre otros. Se abren en cualquier navegador (explorer, firefox, safari, chrome,...). Ojo: no necesitas estar conectado a internet para abrir un notebook; el notebook corre localmente en tu computadora y solo utiliza al navegador para ser ejecutado y que puedas interactuar con él. \n",
    "\n",
    "Puedes cambiar el tipo de celda en la barra del encabezado seleccionando \"code\" para código y \"markdown\" para texto. Markdown es un es un lenguaje de marcado que tiene como objetivo facilitar la tarea de dar formato a un texto mediante el uso de solo algunos caracteres. [Aquí](https://markdown.es/) hay una guía de uso en español. Es muy común para escribir en internet y para tomar notas.\n",
    "\n",
    "Si das doble click en esta celda de texto verás cómo se da formato al texto. Los encabezados se denotan con #,##, ###, etc, texto en **negritas** entre doble asterisco, *itálicas* entre asteriscos, etc. \n",
    "\n",
    "Para ejecutar una celda da click en el botón `Run` en la barra de herramientas o puedes oprimir `Shift`+`Enter`. Esto último es lo más rápido, y con la práctica te acostubrarás a hacerlo en automático.\n",
    "\n",
    "Algo importante que considerar es el orden en el que ejecutas las celdas. Después de ejecutar una célda de código aparece un número del lado izquierdo que indica el orden en el que has ejecutado las celdas. La primera celda ejecutada tiene un 1, la segunda 2 y así sucesivamente. Si vuelves a ejecutar una celda, el número cambiará. Esto tendrá más sentido una vez que empecemos."
   ]
  },
  {
   "cell_type": "markdown",
   "metadata": {},
   "source": [
    "## 1. Fundamentos de Python\n",
    "\n",
    "#### Preguntas a responder\n",
    "1. ¿Con qué tipos de datos básicos puedo trabajar en Python?\n",
    "2. ¿Cómo puedo crear variables en Python?\n",
    "3. ¿Puedo cambiar el nuevo valor de una variable creada previamente?\n",
    "\n",
    "#### Objetivos\n",
    "* Aprender a asignar un valor a una variable.\n",
    "\n"
   ]
  },
  {
   "cell_type": "markdown",
   "metadata": {},
   "source": [
    "### 1.1 Variables"
   ]
  },
  {
   "cell_type": "markdown",
   "metadata": {},
   "source": [
    "Cualquier intérprete de Python pude usarse como una calculadora (intérprete=jupyter notebook, python en la terminal, ipython, etc)"
   ]
  },
  {
   "cell_type": "code",
   "execution_count": 1,
   "metadata": {},
   "outputs": [
    {
     "data": {
      "text/plain": [
       "23"
      ]
     },
     "execution_count": 1,
     "metadata": {},
     "output_type": "execute_result"
    }
   ],
   "source": [
    "3 + 5 * 4"
   ]
  },
  {
   "cell_type": "markdown",
   "metadata": {},
   "source": [
    "Esto está bien pero no es muy interesante. Para poder hacer algo útil con los datos debemos asignar su valor a una **variable**. En Python, asignamos un valor a una variable usando el signo de igual `=`. Por ejemplo, para asignar el valor `30` a la variable `peso_kg`, ejecutamos el comando:"
   ]
  },
  {
   "cell_type": "code",
   "execution_count": 2,
   "metadata": {},
   "outputs": [],
   "source": [
    "peso_kg = 30"
   ]
  },
  {
   "cell_type": "markdown",
   "metadata": {},
   "source": [
    "De ahora en adelante, cada vez que usemos `peso_kg`, Python sustituirá el valor que le asignamos. En otras palabras, **una variable es un \"nombre\" para un valor** (en verdad una variable es un \"lugar\" en la memoria de la computdora, pero esa es otra historia.)\n",
    "\n",
    "En Python, los nombres de las variables:\n",
    "* pueden incluir letras, digitos y guión bajo,\n",
    "* no pueden empezar con un dígito,\n",
    "* son sensibles a mayúsculas y minúsculas.\n",
    "\n",
    "Por ejemplo: \n",
    "\n",
    "* `peso0` es un nombre válido pero `0peso` no lo es,\n",
    "* `peso` y `Peso` serán distintas variables."
   ]
  },
  {
   "cell_type": "markdown",
   "metadata": {},
   "source": [
    "### 1.2 Tipos de datos o variables\n",
    "\n",
    "Python conoce distintos tipos de datos. Los tres más comúnes son:\n",
    "* números enetros,\n",
    "* números decimales (floating point numbers) y\n",
    "* strings o cadenas de caracteres.\n",
    "\n",
    "En el ejemplo anterior, la variable `peso_kg` contiene el valor entero `30`. Para crear una variable con valor decimal, podemos ejecutar:"
   ]
  },
  {
   "cell_type": "code",
   "execution_count": 3,
   "metadata": {},
   "outputs": [],
   "source": [
    "peso_kg = 30.0"
   ]
  },
  {
   "cell_type": "markdown",
   "metadata": {},
   "source": [
    "y para crear una cadena o *string* añadimos comillas dobles o simples alrededor de algún pedazo de texto:"
   ]
  },
  {
   "cell_type": "code",
   "execution_count": 4,
   "metadata": {},
   "outputs": [],
   "source": [
    "peso_kg_texto = 'peso en kilogramos:'"
   ]
  },
  {
   "cell_type": "markdown",
   "metadata": {},
   "source": [
    "### 1.3 Uso de las variables\n",
    "\n",
    "Para mostrar el valor de una variable en la pantalla podemos usar la función `print`:"
   ]
  },
  {
   "cell_type": "code",
   "execution_count": 5,
   "metadata": {},
   "outputs": [
    {
     "name": "stdout",
     "output_type": "stream",
     "text": [
      "30.0\n"
     ]
    }
   ],
   "source": [
    "print(peso_kg)\n",
    "\n",
    "#help(print)\n",
    "\n",
    "?print"
   ]
  },
  {
   "cell_type": "markdown",
   "metadata": {},
   "source": [
    "Podemos mostrar varias cosas a la vez con un solo comando `print`:"
   ]
  },
  {
   "cell_type": "code",
   "execution_count": 6,
   "metadata": {},
   "outputs": [
    {
     "name": "stdout",
     "output_type": "stream",
     "text": [
      "peso en kilogramos: 30.0\n"
     ]
    }
   ],
   "source": [
    "print(peso_kg_texto, peso_kg)"
   ]
  },
  {
   "cell_type": "markdown",
   "metadata": {},
   "source": [
    "Aún mejor, podemos hacer operaciones aritméticas entre variables dentro del comando `print`:"
   ]
  },
  {
   "cell_type": "code",
   "execution_count": 7,
   "metadata": {},
   "outputs": [
    {
     "name": "stdout",
     "output_type": "stream",
     "text": [
      "El peso en libras es: 66.0\n"
     ]
    }
   ],
   "source": [
    "print('El peso en libras es:', 2.2 * peso_kg)"
   ]
  },
  {
   "cell_type": "markdown",
   "metadata": {},
   "source": [
    "Nota que el comando anterior **NO** cambió el valor de `peso_kg`:"
   ]
  },
  {
   "cell_type": "code",
   "execution_count": 8,
   "metadata": {},
   "outputs": [
    {
     "name": "stdout",
     "output_type": "stream",
     "text": [
      "30.0\n"
     ]
    }
   ],
   "source": [
    "print(peso_kg)"
   ]
  },
  {
   "cell_type": "markdown",
   "metadata": {},
   "source": [
    "Para cambiar el valor de `peso_kg`, debemos asignarle un nuevo valor usando el signo igual `=`:"
   ]
  },
  {
   "cell_type": "code",
   "execution_count": 9,
   "metadata": {},
   "outputs": [
    {
     "name": "stdout",
     "output_type": "stream",
     "text": [
      "El peso en kg ahora es: 65.0\n"
     ]
    }
   ],
   "source": [
    "peso_kg = 65.0\n",
    "print('El peso en kg ahora es:', peso_kg)"
   ]
  },
  {
   "cell_type": "markdown",
   "metadata": {},
   "source": [
    "Asignar un valor a una variable no cambia el valor de otras variables. Por ejemplo, si creamos una variable `peso_lb` como:"
   ]
  },
  {
   "cell_type": "code",
   "execution_count": 10,
   "metadata": {},
   "outputs": [
    {
     "name": "stdout",
     "output_type": "stream",
     "text": [
      "143.0\n"
     ]
    }
   ],
   "source": [
    "peso_lb = 2.2 * peso_kg\n",
    "print(peso_lb)"
   ]
  },
  {
   "cell_type": "markdown",
   "metadata": {},
   "source": [
    "y después cambiamos el valor de `peso_kg`:"
   ]
  },
  {
   "cell_type": "code",
   "execution_count": 11,
   "metadata": {},
   "outputs": [
    {
     "name": "stdout",
     "output_type": "stream",
     "text": [
      "peso_kg es:  80.0 y peso_lb es:  143.0\n"
     ]
    }
   ],
   "source": [
    "peso_kg = 80.0\n",
    "print('peso_kg es: ', peso_kg, 'y peso_lb es: ', peso_lb)"
   ]
  },
  {
   "cell_type": "markdown",
   "metadata": {},
   "source": [
    "El valor de peso_lb no cambia. Esto es porque las variables no \"recuerdan\" de dónde viene su valor. Éste no se actualiza si cambiamos `peso_kg`."
   ]
  },
  {
   "cell_type": "markdown",
   "metadata": {},
   "source": [
    "#### Pon en práctica lo que aprendiste"
   ]
  },
  {
   "cell_type": "markdown",
   "metadata": {},
   "source": [
    "1. ¿Qué valores tienen las variables `temperatura` y `salinidad` después de ejecutar los comandos mostrados en la siguente celda?\n",
    "2. Comprueba tu respuesta ejecutando la celda siguiente y añadiendo el comando `print`con los **argumentos** necesarios para mostrar el valor de `temperatura`y `salinidad`. \n",
    "\n",
    "Nota: El **argumento** es la información que necesita el comando para ser ejecutado. Los argumentos son las variables o valores entre paréntesis después del comando. Por ejemplo, en `print('Hola mundo')`, el argumento del comando `print` es 'Hola Mundo'."
   ]
  },
  {
   "cell_type": "code",
   "execution_count": 12,
   "metadata": {},
   "outputs": [],
   "source": [
    "temperatura = 20.5\n",
    "salinidad = 50.2\n",
    "temperatura = temperatura * 2.0\n",
    "salinidad = salinidad - 20"
   ]
  },
  {
   "cell_type": "code",
   "execution_count": 13,
   "metadata": {},
   "outputs": [],
   "source": [
    "# Añade el comando `print` en esta celda para desplegar el valor\n",
    "# de las variables temperatura y salinidad. Después ejecuta la celda.\n",
    "\n"
   ]
  },
  {
   "cell_type": "markdown",
   "metadata": {},
   "source": [
    "3. ¿Qué imprimirá el siguente progama?\n",
    "\n",
    "Comprueba tu respuesta ejecutando la celda \"descomentando\" el comando print."
   ]
  },
  {
   "cell_type": "code",
   "execution_count": 14,
   "metadata": {},
   "outputs": [],
   "source": [
    "primero, segundo = 'Marie', 'Tharp'\n",
    "tercero, cuarto = primero, segundo\n",
    "#print(tercero, cuarto)"
   ]
  },
  {
   "cell_type": "markdown",
   "metadata": {},
   "source": [
    "### 1.4 En resumen\n",
    "\n",
    "* Las variables básicas de Python son de tipo entero, decimal (*floats*) o cadenas (*strings*)\n",
    "* Usa `variable = valor`para asignar un valor a una variable y guardarlo en memoria.\n",
    "* Las variables se crean conforme se requieren cuando se les asigna un valor.\n",
    "* Usa `print(algo)`para mostrar o imprimir el valor de `algo`."
   ]
  },
  {
   "cell_type": "markdown",
   "metadata": {},
   "source": [
    "## 2. Análisis de datos en Python usando un ejemplo\n",
    "\n",
    "Aunque Python cuenta con muchas herramientas poderosas y generales, hay herramientas especializadas, construídas a partir de las unidades básicas de Python, que viven dentro de **bibliotecas** que pueden ser invocadas cuando se requieran.\n",
    "\n",
    "Una **biblioteca** (library) es una familia de unidades de código (funciones, clases, variables) que implementan un conjunto de tareas relacionadas entre sí.\n",
    "\n",
    "#### Preguntas a responder\n",
    "¿Cómo puedo procesar datos tabulados en Python (separados por espacios, comas, etc.)?\n",
    "\n",
    "#### Objetivos\n",
    "* Entender qué es una biblioteca de Python (*library*, a veces dicen librería en los foros) y para qué se usa.\n",
    "* Importar una biblioteca de Python y usar las funciones que contiene.\n",
    "* Leer datos de un archivo de texto y usarlos en un programa.\n",
    "* Seleccionar valores individuales y subsecciones de los datos.\n",
    "* Realizar operaciones con arreglos de datos."
   ]
  },
  {
   "cell_type": "markdown",
   "metadata": {},
   "source": [
    "### 2.1 Abrir datos desde Python\n",
    "\n",
    "Para empezar a analizar datos, debemos \"cargarlos\"o \"subirlos\" a Python. Podemos hacer eso utilizando la biblioteca [NumPy](https://numpy.org/) llamada así por *Numerical Python*. En general, usamos esta biblioteca cuando queremos hacer operaciones sofisticadas (y no tanto) con muchos números, especialmente si tenemos matrices o arreglos. Para decirle a Python que queremos empezar a usar NumPy debemos **importar** NumPy:"
   ]
  },
  {
   "cell_type": "code",
   "execution_count": 15,
   "metadata": {},
   "outputs": [],
   "source": [
    "import numpy"
   ]
  },
  {
   "cell_type": "markdown",
   "metadata": {},
   "source": [
    "Importar una biblioteca es como sacar un instrumento de laboratorio de la bodega para tenerlo a la mano. Las bibliotecas nos permiten usar funciones adicionales a las del paquete básico de Python. Así como en el laboratorio, importar demasiadas bibliotecas puede complicar o frenar tus programas -- así que solo importa lo que necesites.\n",
    "\n",
    "Una vez que importamos la biblioteca numpy podemos pedirle que lea nuestro archivo de datos:"
   ]
  },
  {
   "cell_type": "code",
   "execution_count": 16,
   "metadata": {},
   "outputs": [
    {
     "data": {
      "text/plain": [
       "array([[0.   , 0.   , 0.   , 0.   , 0.   , 0.   , 0.   , 0.173, 0.021,\n",
       "        0.035, 0.014, 0.   ],\n",
       "       [0.005, 0.021, 0.026, 0.001, 0.003, 0.079, 0.113, 0.084, 0.064,\n",
       "        0.012, 0.007, 0.   ],\n",
       "       [0.   , 0.001, 0.001, 0.014, 0.032, 0.069, 0.069, 0.115, 0.135,\n",
       "        0.071, 0.033, 0.   ],\n",
       "       [0.001, 0.006, 0.005, 0.015, 0.068, 0.085, 0.061, 0.078, 0.07 ,\n",
       "        0.067, 0.006, 0.015],\n",
       "       [0.   , 0.003, 0.   , 0.009, 0.103, 0.063, 0.03 , 0.068, 0.098,\n",
       "        0.009, 0.001, 0.   ],\n",
       "       [0.005, 0.   , 0.013, 0.009, 0.028, 0.06 , 0.092, 0.076, 0.081,\n",
       "        0.01 , 0.042, 0.   ],\n",
       "       [0.   , 0.   , 0.012, 0.016, 0.048, 0.085, 0.165, 0.126, 0.126,\n",
       "        0.   , 0.   , 0.   ],\n",
       "       [0.008, 0.001, 0.008, 0.02 , 0.024, 0.059, 0.063, 0.107, 0.065,\n",
       "        0.046, 0.012, 0.   ]])"
      ]
     },
     "execution_count": 16,
     "metadata": {},
     "output_type": "execute_result"
    }
   ],
   "source": [
    "numpy.loadtxt(fname='precip_mensual_estacion01.csv', delimiter=',')"
   ]
  },
  {
   "cell_type": "markdown",
   "metadata": {},
   "source": [
    "El comando `numpy.loadtxt(...)` es un llamado que le pide a Python que ejecute la función `loadtxt`que pertenece a la biblioteca `numpy`. Esta notación se usa en todo Python: la cosa que aparce después del punto está contenida en la cosa antes del punto.\n",
    "\n",
    "`numpy.loadtxt` tiene dos **parámetros** o **argumentos**: el numbre del archivo que vamos a leer y el *delimiter* que nos dice cuál es el caracter que separa los valores en cada línea. Ambos parámtros deben ser tipo *string*, por lo que los rodeamos con comillas.\n",
    "\n",
    "Como no le hemos dicho a Python que haga algo con el output o resultado de la función, el notebook imprime los datos por default. Solo muestra algunas líneas y columnas (usa `...` para omitir algunos elementos cuando el arreglo es muy grande). Para ahorrar espacio, python no muestra los ceros después del punto decimal (1. en vez de 1.0)."
   ]
  },
  {
   "cell_type": "markdown",
   "metadata": {},
   "source": [
    "#### **Nota: Atajo para importación de bibliotecas** \n",
    "\n",
    "En esta lección usamos la sintaxis `import numpy` para importar NumPy. Después llamamos a las funciones dentro de numpy como `numpy.función`. Es posible utilizar un nombre mas corto para numpy usando la sintáxis `import numpy as np`. Así, llamamos a las funciones dentro de numpy como `np.función`. Esta es una práctica común, y resulta en líneas de código más cortas, especialmente si el nombre de la biblioteca es muy largo. Puedes usar la sintáxis que prefieras pero ten cuidado de usar nombres cortos que sean descriptivos y tengan sentido para otros. Es decir, no abrevies `numpy `como `n`, eso puede ser confuso."
   ]
  },
  {
   "cell_type": "markdown",
   "metadata": {},
   "source": [
    "Volviendo a los datos, nuestra ejecución de `numpy.loadtxt` leyó los datos pero no los guardó en memoria. Para ello debemos asignar el arreglo de datos a una variable. Ejecutemos de nuevo `numpy.loadtxt` asignando los datos a una variable:"
   ]
  },
  {
   "cell_type": "code",
   "execution_count": 17,
   "metadata": {},
   "outputs": [],
   "source": [
    "data = numpy.loadtxt(fname='precip_mensual_estacion01.csv', delimiter=',')"
   ]
  },
  {
   "cell_type": "markdown",
   "metadata": {},
   "source": [
    "Esto no produce ningún output porque asignamos el output a la variable `data`. Para corroborar que se guardaron los datos, imprimimos el valor de la variable `data`:"
   ]
  },
  {
   "cell_type": "code",
   "execution_count": 18,
   "metadata": {},
   "outputs": [
    {
     "name": "stdout",
     "output_type": "stream",
     "text": [
      "[[0.    0.    0.    0.    0.    0.    0.    0.173 0.021 0.035 0.014 0.   ]\n",
      " [0.005 0.021 0.026 0.001 0.003 0.079 0.113 0.084 0.064 0.012 0.007 0.   ]\n",
      " [0.    0.001 0.001 0.014 0.032 0.069 0.069 0.115 0.135 0.071 0.033 0.   ]\n",
      " [0.001 0.006 0.005 0.015 0.068 0.085 0.061 0.078 0.07  0.067 0.006 0.015]\n",
      " [0.    0.003 0.    0.009 0.103 0.063 0.03  0.068 0.098 0.009 0.001 0.   ]\n",
      " [0.005 0.    0.013 0.009 0.028 0.06  0.092 0.076 0.081 0.01  0.042 0.   ]\n",
      " [0.    0.    0.012 0.016 0.048 0.085 0.165 0.126 0.126 0.    0.    0.   ]\n",
      " [0.008 0.001 0.008 0.02  0.024 0.059 0.063 0.107 0.065 0.046 0.012 0.   ]]\n"
     ]
    }
   ],
   "source": [
    "print(data)"
   ]
  },
  {
   "cell_type": "markdown",
   "metadata": {},
   "source": [
    "Ahora que tenemos los datos en memoria, podemos manipularlos. Primero, preguntemos qué **tipo** de cosa es `data`:"
   ]
  },
  {
   "cell_type": "code",
   "execution_count": 19,
   "metadata": {},
   "outputs": [
    {
     "name": "stdout",
     "output_type": "stream",
     "text": [
      "<class 'numpy.ndarray'>\n"
     ]
    }
   ],
   "source": [
    "print(type(data))"
   ]
  },
  {
   "cell_type": "markdown",
   "metadata": {},
   "source": [
    "El output nos dice que `data`es un arreglo de numpy N-dimensional. \n",
    "\n",
    "Los datos corresponden a la precipitación anual en la estación Meteorológica [PEMBU](https://www.ruoa.unam.mx/pembu/) del Centro de Ciencias de la Atmósfera de la UNAM ([CCA](https://www.atmosfera.unam.mx/)). Las filas de este arreglo correponden a distintos años (2011-2018) y las columnas a la precipitación promedio por mes del año. La precipitación está medida en milímetros de lluvia. \n",
    "\n",
    "NOTA: Un arrelgo de NumPy contiene uno o más elementos del mismo tipo. La función `type`solo nos dice que la variable `data`es un arreglo de NumPy pero no te dice el tipo de las cosas dentro del arreglo. Podemos conocer el tipo de los datos contenidos en `data` utilizando:"
   ]
  },
  {
   "cell_type": "code",
   "execution_count": 20,
   "metadata": {},
   "outputs": [
    {
     "name": "stdout",
     "output_type": "stream",
     "text": [
      "float64\n"
     ]
    }
   ],
   "source": [
    "print(data.dtype)"
   ]
  },
  {
   "cell_type": "markdown",
   "metadata": {},
   "source": [
    "Esto nos dice que los elementos del arreglo de NumPy `data` son de tipo decimal o `float`."
   ]
  },
  {
   "cell_type": "markdown",
   "metadata": {},
   "source": [
    "Con el siguiente comando podemos conocer la forma o tamaño del arreglo:"
   ]
  },
  {
   "cell_type": "code",
   "execution_count": 21,
   "metadata": {},
   "outputs": [
    {
     "name": "stdout",
     "output_type": "stream",
     "text": [
      "(8, 12)\n"
     ]
    }
   ],
   "source": [
    "print(data.shape)"
   ]
  },
  {
   "cell_type": "markdown",
   "metadata": {},
   "source": [
    "Esto nos dice que el arreglo `data` contiene 8 filas y 12 columnas. Hemos creado la variable `data` para guardar la información de la precipitación mensual, pero no solo creamos eso; también creamos automáticamente información acerca del arreglo llamada miembros o atributos. Esta información adicional describe a `data`de la misma forma que un adjetivo describe a un sustantivo. `data.shape`es un atributo de data que describe las dimensiones de `data`. Usamos la misma notación de punto para los atributos de variables que para las funciones en bibliotecs porque tienen la misma relacion todo-parte.\n",
    "\n",
    "Si queremos seleccionar o sacar un solo número del arreglo, debemos proporcionar un índice entre paréntesis cuadrados `[]` después del nombre de la variable. Nuestros datos de precipitación tienen dos dimensiones, por lo que debemos porporcionar dos índices para referirnos a un valor específico:"
   ]
  },
  {
   "cell_type": "code",
   "execution_count": 22,
   "metadata": {},
   "outputs": [
    {
     "name": "stdout",
     "output_type": "stream",
     "text": [
      "el primer elemento en data es: 0.0\n"
     ]
    }
   ],
   "source": [
    "print('el primer elemento en data es:', data[0,0])"
   ]
  },
  {
   "cell_type": "code",
   "execution_count": 23,
   "metadata": {},
   "outputs": [
    {
     "name": "stdout",
     "output_type": "stream",
     "text": [
      "el elemento en la mitad de data es: 0.03\n"
     ]
    }
   ],
   "source": [
    "print('el elemento en la mitad de data es:', data[4,6])"
   ]
  },
  {
   "cell_type": "markdown",
   "metadata": {},
   "source": [
    "Tal vez te sorprenda la expresión `data[0,0]`para elegir el elemento en la primera columna primer renglón. Los lenguajes de programación como Fortran, Matlab y R empiezan a contar desde 1 porque eso hacen los humanos. Los lenguajes en la familia C (como C++, Java, Perl y Python) cuentan desde 0 porque eso representa el incremento desde el primer valor en el arreglo (el segundo valor está desplazado por un índice desde el primer valor). Esto es más cercano a la forma en que las computadoras repesentan arreglos (Aqui hay una [entrada del blog de Mike Hoye](http://exple.tive.org/blarg/2013/10/22/citation-needed/) si les interesa saber más sobre esto).\n",
    "\n",
    "Como resultado, si tenemos un arreglo de MxN en Python, sus índices van del 0 a M-1 en la primera dimensión y de 0 a N-1 en la segunda. Lleva un rato acostumbrarse, pero pueden pensar que la regla es que el índice es el número de pasos tenemos que saltar desde el comienzo hasta el elemento que queremos.\n",
    "\n",
    "<img src=\"images/indices.svg\">"
   ]
  },
  {
   "cell_type": "markdown",
   "metadata": {},
   "source": [
    "Otra nota al respecto. Python muestra el elemento con índices `[0,0]`en el extremo superior izquierdo. Esto es consistente con la forma en que dibujamos matrices en matemáticas, pero distinto a las coordenadas Cartesianas. **Los índices son (fila, columna)**."
   ]
  },
  {
   "cell_type": "markdown",
   "metadata": {},
   "source": [
    "### 2.2 Seleccionar porciones o \"rebanadas\" de datos\n",
    "\n",
    "Usando índices como `[3,8]` seleccionamos un solo elemento del arreglo, pero podemos seleccionar secciones o rebanadas (*slice* en inglés) también. Por ejemplo, podemos seleccionar los primeros 5 meses de datos (columnas) de los primeros 4 años (filas): "
   ]
  },
  {
   "cell_type": "code",
   "execution_count": 24,
   "metadata": {},
   "outputs": [
    {
     "name": "stdout",
     "output_type": "stream",
     "text": [
      "[[0.    0.    0.    0.    0.   ]\n",
      " [0.005 0.021 0.026 0.001 0.003]\n",
      " [0.    0.001 0.001 0.014 0.032]\n",
      " [0.001 0.006 0.005 0.015 0.068]]\n"
     ]
    }
   ],
   "source": [
    "print(data[0:4, 0:5])"
   ]
  },
  {
   "cell_type": "markdown",
   "metadata": {},
   "source": [
    "La selección o rebanada `0:4` quiere decir \"Empieza en el índice 0 y selecciona hasta, pero **sin incluir**, el índice 4\". De nuevo, lleva un poco de tiempo acostumbrarse a este \"hasta, pero no incluyas\", pero la regla es que la diferencia entre los límites inferior y superior es el número de valores en la rebanada.\n",
    "\n",
    "Las rebanadas no tienen que empezar en 0:"
   ]
  },
  {
   "cell_type": "code",
   "execution_count": 25,
   "metadata": {},
   "outputs": [
    {
     "name": "stdout",
     "output_type": "stream",
     "text": [
      "[[0.    0.013 0.009 0.028 0.06  0.092 0.076 0.081]\n",
      " [0.    0.012 0.016 0.048 0.085 0.165 0.126 0.126]\n",
      " [0.001 0.008 0.02  0.024 0.059 0.063 0.107 0.065]]\n"
     ]
    }
   ],
   "source": [
    "print(data[5:8, 1:9])"
   ]
  },
  {
   "cell_type": "markdown",
   "metadata": {},
   "source": [
    "Además, no es necesario incluir los límites superior e inferior de la selección. Si no incluimos límite inferior, Python usa el 0 como default; si no incluimos el superior, Python selecciona hasta el último elemento de ese eje; si no especificamos ningún límite (`:`), Python selecciona todo el eje:"
   ]
  },
  {
   "cell_type": "code",
   "execution_count": 26,
   "metadata": {},
   "outputs": [
    {
     "name": "stdout",
     "output_type": "stream",
     "text": [
      "la rebanada es:\n",
      "[[0.021 0.035 0.014 0.   ]\n",
      " [0.064 0.012 0.007 0.   ]\n",
      " [0.135 0.071 0.033 0.   ]]\n"
     ]
    }
   ],
   "source": [
    "rebanada = data[:3, 8:]\n",
    "print('la rebanada es:')\n",
    "print(rebanada)"
   ]
  },
  {
   "cell_type": "markdown",
   "metadata": {},
   "source": [
    "El ejemplo anterior selecciona las filas 0 a 2 y las columnas 8 al final del arreglo."
   ]
  },
  {
   "cell_type": "markdown",
   "metadata": {},
   "source": [
    "### 2.3 Analizar los datos\n",
    "\n",
    "NumPy tiene muchas funciones útiles que toman al arreglo como input para realizar alguna operación con sus valores. Si queremos encontrar el promedio anual de precipitación usando todos los años, le podemos pedir a NumPy que compute el promedio de `data`:"
   ]
  },
  {
   "cell_type": "code",
   "execution_count": 27,
   "metadata": {},
   "outputs": [
    {
     "name": "stdout",
     "output_type": "stream",
     "text": [
      "0.036104166666666666\n"
     ]
    }
   ],
   "source": [
    "print(numpy.mean(data))"
   ]
  },
  {
   "cell_type": "markdown",
   "metadata": {},
   "source": [
    "`mean` (*mean* es promedio en inglés) es una función que toma un arreglo como argumento.  \n",
    "\n",
    "*Pequeño paréntesis: No todas las funciones necesitan un input para producir un output. Por ejemplo, la función para checar la hora no requiere input:*"
   ]
  },
  {
   "cell_type": "code",
   "execution_count": 28,
   "metadata": {},
   "outputs": [
    {
     "name": "stdout",
     "output_type": "stream",
     "text": [
      "Sun Feb 13 19:17:49 2022\n"
     ]
    }
   ],
   "source": [
    "import time\n",
    "print (time.ctime())"
   ]
  },
  {
   "cell_type": "markdown",
   "metadata": {},
   "source": [
    "*Aunque la función no requiera input, debemos escibir `()` para decirle a Python que ejecute la función.*"
   ]
  },
  {
   "cell_type": "markdown",
   "metadata": {},
   "source": [
    "De vuelta a los datos, usemos otras tres funciones para obtener algunos valores descriptivos de la precipitación. Además usaremos la asignación múltiple, que es una forma conveniente de asignar varios valores en una línea de código:"
   ]
  },
  {
   "cell_type": "code",
   "execution_count": 29,
   "metadata": {},
   "outputs": [
    {
     "name": "stdout",
     "output_type": "stream",
     "text": [
      "precipitación máxima (mm): 0.173\n",
      "precipitación mínima (mm): 0.0\n",
      "desviación estandar (mm): 0.0421644793157964\n"
     ]
    }
   ],
   "source": [
    "maxval, minval, stdval = numpy.max(data), numpy.min(data), numpy.std(data)\n",
    "\n",
    "print('precipitación máxima (mm):', maxval)\n",
    "print('precipitación mínima (mm):', minval)\n",
    "print('desviación estandar (mm):', stdval)"
   ]
  },
  {
   "cell_type": "markdown",
   "metadata": {},
   "source": [
    "Aquí asignamos el output de `numpy.max(data)` a la variable `maxval`, el valor de `numpy.min(data)` a la variable `minval`, etc."
   ]
  },
  {
   "cell_type": "markdown",
   "metadata": {},
   "source": [
    "#### TIP: \n",
    "Si estas trabajando en un *notebook* puedes ver las funciones dentro de una biblioteca escribiendo el `nombre-de-la-biblioteca.` y despues `Tab` (la tecla tab). Por ejemplo, escribe `numpy.` y la tecla tab para ver todas  las funciones dentro de numpy."
   ]
  },
  {
   "cell_type": "markdown",
   "metadata": {},
   "source": [
    "Cuando analizamos datos, frecuentemente queremos analizar variaciones en datos estadísticos, como la precipitación mensual máxima por año o la precipitación promedio en todos los meses de mayo. Una forma de hacer esto es crear un nuevo arreglo temporal de datos y después calcular sobre ese arreglo:  "
   ]
  },
  {
   "cell_type": "code",
   "execution_count": 30,
   "metadata": {},
   "outputs": [
    {
     "name": "stdout",
     "output_type": "stream",
     "text": [
      "La precipitación mensual máxima (mm) en 2010 fue: 0.173\n"
     ]
    }
   ],
   "source": [
    "anio_2010 = data[0, :] # 0 en el primer eje (filas), y todo en el segundo eje (columnas)print('maximum inflammation for patient 0:', numpy.max(patient_0))\n",
    "print('La precipitación mensual máxima (mm) en 2010 fue:', numpy.max(anio_2010))"
   ]
  },
  {
   "cell_type": "markdown",
   "metadata": {},
   "source": [
    "Todo lo que sigue del símbolo \"#\" es un *comentario* que Python ignora. Los comentarios ayudan a los programadores a dejar notas para explicar algo dentro del código para ellos mismo o para otros programadores.\n",
    "\n",
    "En verdad no necesitamos guardar la fila seleccionada en una variable. Podemos combinar la selección con el llamado a la función en una sola línea:"
   ]
  },
  {
   "cell_type": "code",
   "execution_count": 31,
   "metadata": {},
   "outputs": [
    {
     "name": "stdout",
     "output_type": "stream",
     "text": [
      "La precipitación mensual máxima (mm) en 2010 fue: 0.173\n"
     ]
    }
   ],
   "source": [
    "print('La precipitación mensual máxima (mm) en 2010 fue:', numpy.max(data[0,:]))"
   ]
  },
  {
   "cell_type": "markdown",
   "metadata": {},
   "source": [
    "Imagina que necesitamos la máxima precipitación en cada año (diagrama de la izquierda) o el promedio de precipitación por cada mes (derecha). Como se muestra en el diagrama, queremos realizar operaciones a lo largo de los ejes:\n",
    "\n",
    "<img src=\"images/python-operations-across-axes.png\">"
   ]
  },
  {
   "cell_type": "markdown",
   "metadata": {},
   "source": [
    "La mayoría de las funciones que usan arreglos como input nos permiten especificar a lo largo de qué eje queremos hacer la operación. Si pedimos el promedio sobre el eje 0 (filas en nuestro ejemplo 2D), tenemos:"
   ]
  },
  {
   "cell_type": "code",
   "execution_count": 32,
   "metadata": {},
   "outputs": [
    {
     "name": "stdout",
     "output_type": "stream",
     "text": [
      "[0.002375 0.004    0.008125 0.0105   0.03825  0.0625   0.074125 0.103375\n",
      " 0.0825   0.03125  0.014375 0.001875]\n"
     ]
    }
   ],
   "source": [
    "print(numpy.mean(data, axis=0))"
   ]
  },
  {
   "cell_type": "markdown",
   "metadata": {},
   "source": [
    "Podemos checar rápidamente cuáles son las dimensiones del output:"
   ]
  },
  {
   "cell_type": "code",
   "execution_count": 33,
   "metadata": {},
   "outputs": [
    {
     "name": "stdout",
     "output_type": "stream",
     "text": [
      "(12,)\n"
     ]
    }
   ],
   "source": [
    "print(numpy.mean(data, axis=0).shape)"
   ]
  },
  {
   "cell_type": "markdown",
   "metadata": {},
   "source": [
    "La expresión `(12,)`nos dice que tenemos un vector de 12x1, así que esto es la precipitación promedio por mes (el promedio de precipitación para toodos los eneros, febreros, etc).\n",
    "\n",
    "Si tomamos el promedio sobre el eje 1 (columnas), obtenemos:"
   ]
  },
  {
   "cell_type": "code",
   "execution_count": 34,
   "metadata": {},
   "outputs": [
    {
     "name": "stdout",
     "output_type": "stream",
     "text": [
      "[0.02025    0.03458333 0.045      0.03975    0.032      0.03466667\n",
      " 0.04816667 0.03441667]\n"
     ]
    }
   ],
   "source": [
    "print(numpy.mean(data, axis=1))"
   ]
  },
  {
   "cell_type": "markdown",
   "metadata": {},
   "source": [
    "Que es la precipitación promedio para cada año."
   ]
  },
  {
   "cell_type": "markdown",
   "metadata": {},
   "source": [
    "#### Pon en práctica lo que aprendiste\n",
    "\n",
    "Podemos tomar rebanadas o selecciones de *strings*:"
   ]
  },
  {
   "cell_type": "code",
   "execution_count": 35,
   "metadata": {},
   "outputs": [
    {
     "name": "stdout",
     "output_type": "stream",
     "text": [
      "Los primeros tres caracteres: oxi\n",
      "Los últimos tres caracteres: eno\n"
     ]
    }
   ],
   "source": [
    "elemento = 'oxigeno'\n",
    "print('Los primeros tres caracteres:', elemento[:3])\n",
    "print('Los últimos tres caracteres:', elemento[4:7])"
   ]
  },
  {
   "cell_type": "markdown",
   "metadata": {},
   "source": [
    "1. ¿Cuál es el valor de `elemento[:4]` y de `elemento[4]`?\n",
    "\n",
    "2. ¿Qué es `elemento[-1]` y de `elemento[-2]`?"
   ]
  },
  {
   "cell_type": "markdown",
   "metadata": {},
   "source": [
    "R: "
   ]
  },
  {
   "cell_type": "code",
   "execution_count": 36,
   "metadata": {},
   "outputs": [],
   "source": [
    "# Comprueba tu respuesta aqui\n"
   ]
  },
  {
   "cell_type": "markdown",
   "metadata": {},
   "source": [
    "3. Explica qué hace `elemento[1:-1]`"
   ]
  },
  {
   "cell_type": "markdown",
   "metadata": {},
   "source": [
    "R: "
   ]
  },
  {
   "cell_type": "code",
   "execution_count": 37,
   "metadata": {},
   "outputs": [],
   "source": [
    "# Comprueba tu respuesta aquí"
   ]
  },
  {
   "cell_type": "markdown",
   "metadata": {},
   "source": [
    "Los arreglos se pueden apilar (*stack* en inglés) uno sobre otro usando las funciones de NumPy `vstack`y `hstack` para apliar en la vertical y horizontal, respectivamente."
   ]
  },
  {
   "cell_type": "code",
   "execution_count": 38,
   "metadata": {},
   "outputs": [
    {
     "name": "stdout",
     "output_type": "stream",
     "text": [
      "A = \n",
      "[[1 2 3]\n",
      " [4 5 6]\n",
      " [7 8 9]]\n",
      "B = \n",
      "[[1 2 3 1 2 3]\n",
      " [4 5 6 4 5 6]\n",
      " [7 8 9 7 8 9]]\n",
      "C = \n",
      "[[1 2 3]\n",
      " [4 5 6]\n",
      " [7 8 9]\n",
      " [1 2 3]\n",
      " [4 5 6]\n",
      " [7 8 9]]\n"
     ]
    }
   ],
   "source": [
    "A = numpy.array([[1,2,3], [4,5,6], [7, 8, 9]])\n",
    "print('A = ')\n",
    "print(A)\n",
    "\n",
    "B = numpy.hstack([A, A])\n",
    "print('B = ')\n",
    "print(B)\n",
    "\n",
    "C = numpy.vstack([A, A])\n",
    "print('C = ')\n",
    "print(C)"
   ]
  },
  {
   "cell_type": "markdown",
   "metadata": {},
   "source": [
    "4. Escribe código adicional que rebane la primera y última columna de `A`, y las apile en un arreglo de dimensiones 2x3. Usa el comando `print`para que puedas verificar tu solución."
   ]
  },
  {
   "cell_type": "code",
   "execution_count": null,
   "metadata": {},
   "outputs": [],
   "source": []
  },
  {
   "cell_type": "markdown",
   "metadata": {},
   "source": [
    "### 2.4 En resumen\n",
    "\n",
    "* Importa bibliotecas usando `import nombre-de-la-biblioteca`.\n",
    "* Usa la biblioteca `numpy` para trabajar con arreglos en Python.\n",
    "* La expresión `arreglo.shape` te da las dimensiones del arreglo.\n",
    "* Usa `arreglo[x, y]` para seleccionar un elemento de un arreglo 2D.\n",
    "* Los índices de los arreglos empiezan en 0, no en 1.\n",
    "* Usa la notación `min:max` para especificar una \"rebanada\" que incluya desde el índice `min` hasta `max-1`.\n",
    "* Usa `# algo de texto` para agregar comentarios en tus programas.\n",
    "* Usa `numpy.mean(arreglo)`, `numpy.max(arreglo`) y `numpy.min(arreglo)` para calcular estadística simple.\n",
    "* Usa `numpy.mean(arreglo, axis=0)` o `numpy.mean(arreglo, axis=1)` para calcular promedios sobre un eje específico."
   ]
  },
  {
   "cell_type": "markdown",
   "metadata": {},
   "source": [
    "## 3. Visualización de datos \n",
    "\n",
    "La visualización de datos requiere una lección entera, pero hoy podemos explorar algunas funciones básicas de la biblioteca `matplotlib`. No hay una biblioteca \"oficial\" para graficar pero `matplotlib` es el estándar. Primero, importemos el módulo `pyplot` de `matplotlib` y usemos dos funciones para crear y mostrar un mapa (*heat map*) de nuestros datos:"
   ]
  },
  {
   "cell_type": "code",
   "execution_count": 39,
   "metadata": {},
   "outputs": [
    {
     "data": {
      "image/png": "[encoded data removed]",
      "text/plain": [
       "<Figure size 432x288 with 1 Axes>"
      ]
     },
     "metadata": {
      "needs_background": "light"
     },
     "output_type": "display_data"
    }
   ],
   "source": [
    "import matplotlib.pyplot as plt \n",
    "image = plt.imshow(data)\n",
    "plt.show()"
   ]
  },
  {
   "cell_type": "markdown",
   "metadata": {},
   "source": [
    "Los pixeles azulosos representan valores bajos y los más amarillos representan valores altos. Podemos ver que la precipitación es mayor en los meses de verano (5-9 del eje x). Veamos la precipitación mensual promedio de todos los años:"
   ]
  },
  {
   "cell_type": "code",
   "execution_count": 40,
   "metadata": {},
   "outputs": [
    {
     "data": {
      "image/png": "[encoded data removed]",
      "text/plain": [
       "<Figure size 432x288 with 1 Axes>"
      ]
     },
     "metadata": {
      "needs_background": "light"
     },
     "output_type": "display_data"
    }
   ],
   "source": [
    "prom_precip = numpy.mean(data, axis=0)\n",
    "prom_plot = plt.plot(prom_precip)\n",
    "plt.show()"
   ]
  },
  {
   "cell_type": "markdown",
   "metadata": {},
   "source": [
    "Aqui pusimos la precipitación mensual promedio a lo largo de todos los años en la variable `prom_precip` y luego le pedimos a `matplotlib.pyplot` (`plt`) que creara y mostrara una gráfica de líneas de esos valores. El resutado muestra un incremento de la precipitación en los meses de verano. Veamos otras estadísticas:"
   ]
  },
  {
   "cell_type": "code",
   "execution_count": 41,
   "metadata": {},
   "outputs": [
    {
     "data": {
      "image/png": "[encoded data removed]",
      "text/plain": [
       "<Figure size 432x288 with 1 Axes>"
      ]
     },
     "metadata": {
      "needs_background": "light"
     },
     "output_type": "display_data"
    }
   ],
   "source": [
    "max_plot = plt.plot(numpy.max(data,axis=0))\n",
    "plt.show()"
   ]
  },
  {
   "cell_type": "code",
   "execution_count": 42,
   "metadata": {},
   "outputs": [
    {
     "data": {
      "image/png": "[encoded data removed]",
      "text/plain": [
       "<Figure size 432x288 with 1 Axes>"
      ]
     },
     "metadata": {
      "needs_background": "light"
     },
     "output_type": "display_data"
    }
   ],
   "source": [
    "min_plot = plt.plot(numpy.min(data,axis=0))\n",
    "plt.show()"
   ]
  },
  {
   "cell_type": "markdown",
   "metadata": {},
   "source": [
    "### 3.1 Grupos de gráficas\n",
    "\n",
    "Podemos agrupar gráficas similares en una sola figura usando subgráficas. El script o progama siguiente usa varios comandos que no hemos visto. La función `plt.figure()`crea el espacio para una figura vacía en donde pondremos nuestras gráficas. El parámetro `figsize`le dice a Python de qué tamaño será la figura. Cada subgráfica se colocará en la figura usando el método `add_subplot`. `add_subplot` toma 3 parámetros. El primero denota cuántas filas de gráficas habrá en total, el segundo cuántas columnas y el último denota que a subgráfica hace referencia nuestra variable (derecha a izquierda y de arriba hacia abajo). Cada subgráfica se guarda en una variable distinta (`axes1`, `axe2s`, `axes3`). Una vez que se crea una subgráfica, se puede agregar título y numbres a los ejes usando `set_xlabel()`,`set_ylabel()`, etc."
   ]
  },
  {
   "cell_type": "code",
   "execution_count": 43,
   "metadata": {},
   "outputs": [
    {
     "data": {
      "image/png": "[encoded data removed]",
      "text/plain": [
       "<Figure size 720x216 with 3 Axes>"
      ]
     },
     "metadata": {
      "needs_background": "light"
     },
     "output_type": "display_data"
    }
   ],
   "source": [
    "# Este es un script completo - una unidad que importa las bibliotecas,\n",
    "# lee los datos del archivo txt, calcula estadística y \n",
    "# grafica los resultados\n",
    "\n",
    "import numpy\n",
    "import matplotlib.pyplot\n",
    "\n",
    "data = numpy.loadtxt(fname='precip_mensual_estacion01.csv', delimiter=',')\n",
    "\n",
    "fig = matplotlib.pyplot.figure(figsize=(10.0, 3.0))\n",
    "\n",
    "axes1 = fig.add_subplot(1, 3, 1)\n",
    "axes2 = fig.add_subplot(1, 3, 2)\n",
    "axes3 = fig.add_subplot(1, 3, 3)\n",
    "\n",
    "axes1.set_ylabel('promedio')\n",
    "axes1.plot(numpy.mean(data, axis=0), label='estación 01')\n",
    "\n",
    "axes2.set_ylabel('max')\n",
    "axes2.plot(numpy.max(data, axis=0), color='green')\n",
    "\n",
    "axes3.set_ylabel('min')\n",
    "axes3.plot(numpy.min(data, axis=0),'--r', linewidth=4)\n",
    "\n",
    "axes1.legend()\n",
    "fig.tight_layout()\n",
    "\n",
    "matplotlib.pyplot.savefig('precipitacion.png')\n",
    "matplotlib.pyplot.show()\n"
   ]
  },
  {
   "cell_type": "markdown",
   "metadata": {},
   "source": [
    "`fig.tight_layout()` le da espacio suficiente a las gráficas dentro de la figura para que no queden aplastadas. La llamada a `savefig` guarda la figura como un archivo gráfico que se puede usar en otros documentos, por ejemplo para ponerlo en sus reportes ;-)\n",
    "\n",
    "El formato del archivo lo determina matplotlib automáticamente a partir de la extensión en el nombre que le dimos al archivo. En el programa anterior es PNG porque usamos el nombre 'precipitacion.png', pero se puede usar PDF, SVG, JPG, EPS, etc."
   ]
  },
  {
   "cell_type": "markdown",
   "metadata": {},
   "source": [
    "#### Pon en práctica lo que aprendiste\n",
    "\n",
    "1. Crea una gráfica de la desviación estándar de la precipitacion mensual a lo largo de todos los años (axis=0). Agrega nombres a los ejes.\n",
    "\n",
    "2. Modifica el progama anterior para que los límites de los ejes sean exactamente de 0 a 11 en x. Usa la función set_xlim(min, max) para lograrlo.\n",
    "\n",
    "3. Modifica el progama anterior para que la figura muestre 3 subgráficas una encima de la otra en lugar de una a lado de la otra."
   ]
  }
 ],
 "metadata": {
  "kernelspec": {
   "display_name": "Python 3",
   "language": "python",
   "name": "python3"
  },
  "language_info": {
   "codemirror_mode": {
    "name": "ipython",
    "version": 3
   },
   "file_extension": ".py",
   "mimetype": "text/x-python",
   "name": "python",
   "nbconvert_exporter": "python",
   "pygments_lexer": "ipython3",
   "version": "3.7.6"
  }
 },
 "nbformat": 4,
 "nbformat_minor": 4
}
