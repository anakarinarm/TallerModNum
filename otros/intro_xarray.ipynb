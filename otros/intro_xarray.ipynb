{
 "cells": [
  {
   "cell_type": "markdown",
   "metadata": {},
   "source": [
    "## Archivos NetCDF y xarray\n",
    "\n",
    "**Temas Selectos de Modelación Numérica** <br>\n",
    "Facultad de Ciencias, UNAM <br>\n",
    "Semestre 2022-2\n",
    "\n",
    "En este notebook aprenderemos qué son los archivos en formato netCDF con ayuda de la librería ``xarray`` y cómo manipular los datos. Esta breve introducción a netCDF y xarray es una versión traducida (y algo modificada) de los tres tutoriales de fundamentos de xarray de [Anderson Banihirwe](https://github.com/andersy005) que pueden encontrar aqui: https://github.com/xarray-contrib/xarray-tutorial/blob/master/online-tutorial-series. Hay un video (en inglés) en donde desarrollan este material: https://youtu.be/a339Q5F48UQ. Hay varios tutoriales de esta serie que les invito a explorar.\n",
    "\n",
    "\n",
    "### Formato NetCDF\n",
    "En Ciencias de la Tierra es muy común lidiar con estructuras de datos de muchas dimensiones (generalmente 3 espaciales + 1 temporal) como el estado del océano, la atmósfera, el interior de un planeta, etc. Es impráctico guardar estos datos en archivos de texto (como los .csv que hemos estado usando) porque necesitaríamos mucha capacidad de memoria para guardarlos, leerlos y procesarlos. Una de las mejores herramientas para manipular datos multidimensionales son los [netCDF](https://www.unidata.ucar.edu/software/netcdf/docs/faq.html#whatisit). Estos archivos almacenan datos en formato HDF (Hierarchical Data Format).\n",
    "\n",
    "La estructura netCDF nos permite tener variables (los datos, por ejemplo temperaturas de un modelo), dimensiones (variables especiales que nos ayudan a dar estructura a los datos, como timepo, latitud, longitud, etc) y atributos (información acerca de las variables).\n",
    "\n",
    "En esta sección aprenderemos a leer y escribir datos netCDF pero antes de eso necesitamos instalar el paquete `xarray` de python. Hay otras formas de leer y manipular archivos netCDF usando la biblioteca netcdf4, pero hoy aprenderemos como hacerlo usando `xarray`.\n",
    "\n",
    "Ve a la terminal y escribe el siguente comando:\n",
    "\n",
    "`conda install -c anaconda xarray `\n",
    "\n",
    "Cuando haya terminado la instalación continúa con la sección."
   ]
  },
  {
   "cell_type": "markdown",
   "metadata": {},
   "source": [
    "### ¿Qué es xarray?\n",
    "\n",
    "Los arreglos N-dimensionales de números son las estructuras de datos más comúnes en el cómputo científico (Ej: arreglos de numpy), pero carecen de una forma útil de asociarles metadatos (la información adicional acerca de los datos las coordenadas, cuándo se crearon, quién los creó, etc). Asociar metadatos y datos usualmente depende del individuo o del paquete de software específico que se use. Aquí entra `xarray`.\n",
    "\n",
    "`xarray` expande las capacidades de los arreglos de NumPy y nos brinda un montón de facilidades para maipular datos.\n",
    "\n",
    "La manera de interactuar con `xarray` esta basada en el modelo de datos de los archivos netCDF (variables, atributos y dimensiones).\n",
    "\n",
    "`xarray` tiene dos estructuras fundamentales de datos:\n",
    "    \n",
    "   * `DataArray`, el \"arreglo de datos\" que contiene una sola variable multidimensional y a sus coordenadas,\n",
    "   * `Dataset`, el \"conjunto de datos\" que contiene multiples variables que potencialemente comparten las mismas coordenadas\n",
    "\n",
    "\n",
    "![data structures](images/xarray-data-structures.png)\n",
    "Imagen de (https://github.com/xarray-contrib/xarray-tutorial/blob/master/online-tutorial-series/01_xarray_fundamentals.ipynb)\n"
   ]
  },
  {
   "cell_type": "markdown",
   "metadata": {},
   "source": [
    "### ¿Cómo cargar datos NetCDF usando xarray?"
   ]
  },
  {
   "cell_type": "code",
   "execution_count": null,
   "metadata": {},
   "outputs": [],
   "source": [
    "# importar xarray como xr. El nombre corto \"xr\" es convención pero puede ser el que quieras\n",
    "import xarray as xr "
   ]
  },
  {
   "cell_type": "code",
   "execution_count": null,
   "metadata": {},
   "outputs": [],
   "source": [
    "# Carga el conjunto de datos de temperatura superficial del mar\n",
    "ds = xr.open_dataset(\"data/sst.mnmean.nc\", engine=\"netcdf4\")\n",
    "\n",
    "# representación HTML de xarray\n",
    "ds"
   ]
  },
  {
   "cell_type": "markdown",
   "metadata": {},
   "source": [
    "Explora el output (vista HTML) que te da xarray del conjunto de datos que cargamos en la variable `ds`. Por ejemplo, si das click en los íconos (hoja de papel y ¿discos?) al final de cada fila podrás ver información adicional de cada variable de datos y coordenada. ¿Qué variables contiene el conjunto de datos? ¿Cuáles son sus coordenadas? "
   ]
  },
  {
   "cell_type": "code",
   "execution_count": null,
   "metadata": {},
   "outputs": [],
   "source": [
    "# También puedes ver una representación modo texto. Para eso solo descomenta la línea siguiente\n",
    "xr.set_options(display_style=\"text\")\n",
    "\n",
    "# Revisa la representación\n",
    "ds.info()"
   ]
  },
  {
   "cell_type": "markdown",
   "metadata": {},
   "source": [
    "#### Dataset (conjunto de datos)\n",
    "\n",
    "`Dataset` es un contenedor de arreglos etiquetados (`DataArrays`) con dimensiones alineadas, similar a un diccionario de Python. Está diseñado como un representación en memoria de un conjunto de datos NetCDF.\n",
    "\n",
    "Además de darnos acceso a los datos, como un diccionario de Python, los `Dataset`s tienen las siguentes propiedades:\n",
    "\n",
    "|Atributo| Descripción|\n",
    "|:--:|:--:|\n",
    "|data_vars|`OrderedDict` de objetos `DataArray` correpondientes a variables de datos|\n",
    "|dims| \tMapeo de nombres de dimensiones a la longitud fija de cada dimensión (ej., {lat: 6, lon: 6, time: 8}).|\n",
    "|coords| Un diccionario de arreglos (coordenadas) que etiquetan a cada punto (ej. arreglos 1D de números, objetos `datetime`|\n",
    "|attrs |`OrderedDict` con metadatos arbitrarios del conjunto de datos.|"
   ]
  },
  {
   "cell_type": "code",
   "execution_count": null,
   "metadata": {},
   "outputs": [],
   "source": [
    "# Variables de datos en el conjunto de datos (dataset)\n",
    "ds.data_vars"
   ]
  },
  {
   "cell_type": "code",
   "execution_count": null,
   "metadata": {},
   "outputs": [],
   "source": [
    "# selecciona la primera entrada a lo largo del primer eje (time) de la variable sst\n",
    "ds.sst[0]"
   ]
  },
  {
   "cell_type": "code",
   "execution_count": null,
   "metadata": {},
   "outputs": [],
   "source": [
    "# Grafica un paso de tiempo\n",
    "ds.sst[0].plot()"
   ]
  },
  {
   "cell_type": "code",
   "execution_count": null,
   "metadata": {},
   "outputs": [],
   "source": [
    "# dimensiones en el conjunto de datos\n",
    "ds.dims"
   ]
  },
  {
   "cell_type": "code",
   "execution_count": null,
   "metadata": {},
   "outputs": [],
   "source": [
    "# coordenadas en el conjunto de datos\n",
    "ds.coords"
   ]
  },
  {
   "cell_type": "code",
   "execution_count": null,
   "metadata": {},
   "outputs": [],
   "source": [
    "# atributos globales del conjunto de datos\n",
    "ds.attrs"
   ]
  },
  {
   "cell_type": "markdown",
   "metadata": {},
   "source": [
    "#### DataArray\n",
    "\n",
    "El \"arreglo de datos\" `DataArray` es la implementación de un arreglo multidimensional con etiquetas. Algunas de sus propiedades clave son:\n",
    "\n",
    "|Atributo| \tDescripción|\n",
    "|:--:|:--:|\n",
    "|data| \tarreglos numpy.ndarray o dask.array que contienen los datos.|\n",
    "|dims| \tnombres de las dimensiones de cada eje. Ej:(x, y, z) (lat, lon, time).|\n",
    "|coords| un contenedor estilo diccionario de arreglos (coordenadas) que etiquetan a cada punto(e.j., arreglos 1-D de números, objetos `datetime` o cadenas)|\n",
    "|attrs| un `OrderedDict`que contiene metadatos y atributos (ej. unidades)|\n",
    "|name |\tnombre del arreglo|"
   ]
  },
  {
   "cell_type": "code",
   "execution_count": null,
   "metadata": {},
   "outputs": [],
   "source": [
    "# Extrae la variable o dataArray sst\n",
    "ds[\"sst\"]  # Equivalente a ds.sst"
   ]
  },
  {
   "cell_type": "code",
   "execution_count": null,
   "metadata": {},
   "outputs": [],
   "source": [
    "# El arreglo de datos (numpy) \n",
    "ds.sst.data"
   ]
  },
  {
   "cell_type": "code",
   "execution_count": null,
   "metadata": {},
   "outputs": [],
   "source": [
    "# dimesniones del dataarray/variable \n",
    "ds.sst.dims"
   ]
  },
  {
   "cell_type": "code",
   "execution_count": null,
   "metadata": {},
   "outputs": [],
   "source": [
    "# coordenadas del datarray/variable \n",
    "ds.sst.coords"
   ]
  },
  {
   "cell_type": "code",
   "execution_count": null,
   "metadata": {},
   "outputs": [],
   "source": [
    "# atributos del dataarray/variable\n",
    "ds.sst.attrs"
   ]
  },
  {
   "cell_type": "markdown",
   "metadata": {},
   "source": [
    "#### Coordenadas vs. dimensiones\n",
    "    \n",
    "Los objetos `DataArray` dentro de un conjunto de datos `Dataset` pueden tener cualquier cantidad de dimensiones pero deben compartir el sistema de coordenadas.\n",
    "\n",
    "Las coordenadas también pueden tener cualquier número de dimensiones pero denotan cantidades constantes e independientes, a diferencia de las cantidades que pertenecen a los datos.\n",
    "\n",
    "La dimensión es solo un nombre que le damos a un eje, como tiempo."
   ]
  },
  {
   "cell_type": "code",
   "execution_count": null,
   "metadata": {},
   "outputs": [],
   "source": [
    "ds.dims"
   ]
  },
  {
   "cell_type": "code",
   "execution_count": null,
   "metadata": {},
   "outputs": [],
   "source": [
    "ds.coords"
   ]
  },
  {
   "cell_type": "code",
   "execution_count": null,
   "metadata": {},
   "outputs": [],
   "source": [
    "# extrae una variable de las coordenadas\n",
    "ds.sst.lon"
   ]
  },
  {
   "cell_type": "code",
   "execution_count": null,
   "metadata": {},
   "outputs": [],
   "source": [
    "# extrae una variable de las coordenadas de .coords\n",
    "ds.coords[\"time\"]"
   ]
  },
  {
   "cell_type": "markdown",
   "metadata": {},
   "source": [
    "#### Atributos\n",
    "\n",
    "Se pueden usar para guardar metadatos. ¿Cuáles? Pues depende de tu dominio y tus necesidades."
   ]
  },
  {
   "cell_type": "code",
   "execution_count": null,
   "metadata": {},
   "outputs": [],
   "source": [
    "# Ver atributos globales\n",
    "ds.attrs"
   ]
  },
  {
   "cell_type": "code",
   "execution_count": null,
   "metadata": {},
   "outputs": [],
   "source": [
    "# Ver atributos específicos de una variable (sst)\n",
    "ds.sst.attrs"
   ]
  },
  {
   "cell_type": "code",
   "execution_count": null,
   "metadata": {},
   "outputs": [],
   "source": [
    "# Guardar algunos atributos arbitrarios en una variable de datos/dataArray\n",
    "ds.sst.attrs[\"mi_atributo\"] = \"Holaaa\"\n",
    "ds.sst.attrs"
   ]
  },
  {
   "cell_type": "markdown",
   "metadata": {},
   "source": [
    "## Índices y selección de datos\n",
    "\n",
    "Este material proviene del tutorial [02_indexing.ipynb](https://github.com/xarray-contrib/xarray-tutorial/blob/master/online-tutorial-series/02_indexing.ipynb) de este [repositorio](https://github.com/xarray-contrib/xarray-tutorial). \n",
    "\n",
    "En esta sección aprenderemos a seleccionar datos de acuerdo a su posición (`.isel`), a sus coordenadas (`.sel`), series de tiempo por tiempo/fecha y a buscar el valor más cecano a otro usando `.sel`.\n",
    "\n",
    "¿Por qué necesitamos índices basados en etiquetas (digamos coordendas)?\n",
    "\n",
    "Hay etiquetas inherentes a los datos geofísicos. Por ejemplo, una sere de tiempo incluye \"estampas de tiempo\" o pasos de tiempo que etiquetan a cada punto de la serie; los datos en espacio tienen coordenadas o etiquetas que nos dicen en qué punto fue tomada cada medición (ej. lat, lon, elevación)."
   ]
  },
  {
   "cell_type": "markdown",
   "metadata": {},
   "source": [
    "### Índices posicionales en NumPy \n",
    "\n",
    "Cuando trabajamos con NumPy, indizamos de acuerdo a la posición (rebanadas/intervalos/enteros):"
   ]
  },
  {
   "cell_type": "code",
   "execution_count": null,
   "metadata": {},
   "outputs": [],
   "source": [
    "t = ds[\"sst\"].data  # toma los datos, arreglo de numpy \n",
    "t"
   ]
  },
  {
   "cell_type": "code",
   "execution_count": null,
   "metadata": {},
   "outputs": [],
   "source": [
    "t.shape # revisemos el tamaño del arreglo"
   ]
  },
  {
   "cell_type": "code",
   "execution_count": null,
   "metadata": {},
   "outputs": [],
   "source": [
    "# extraemos una serie de tiempo para una sola ubicación espacial\n",
    "t[:, 10, 20]"
   ]
  },
  {
   "cell_type": "markdown",
   "metadata": {},
   "source": [
    "Pero, ¿qué etiquetas le corresponden a 10 y 20? ¿Era lat/lon o lon/lat? ¿Dónde están las estampas de tiempo que van con esta serie de tiempo?"
   ]
  },
  {
   "cell_type": "markdown",
   "metadata": {},
   "source": [
    "### Indices en xarray\n",
    "\n",
    "xarray ofrece rutinas flexibles que combinan lo mejor de NumPy y [pandas](https://pandas.pydata.org/) para seleccionar datos:"
   ]
  },
  {
   "cell_type": "code",
   "execution_count": null,
   "metadata": {},
   "outputs": [],
   "source": [
    "da = ds[\"sst\"]  # Extrae arreglo de datos de la variable sst (DataArray)\n",
    "da"
   ]
  },
  {
   "cell_type": "markdown",
   "metadata": {},
   "source": [
    "* Los índices estilo NumPy aún funcionan en el Data Array, pero ahora se preservaron las etiquetas y metadatos:"
   ]
  },
  {
   "cell_type": "code",
   "execution_count": null,
   "metadata": {},
   "outputs": [],
   "source": [
    "da[:, 20, 40]"
   ]
  },
  {
   "cell_type": "markdown",
   "metadata": {},
   "source": [
    "Podemos seleccionar datos posicionalmente utilizando directamente el nombre de la dimensión: "
   ]
  },
  {
   "cell_type": "code",
   "execution_count": null,
   "metadata": {},
   "outputs": [],
   "source": [
    "# selecciona todo en la posición 60 (índice 60) a lo largo de la dimensión lat y la \n",
    "# posición 40 a lo largo de la dimensión lon y grafica\n",
    "da.isel(lat=60, lon=40).plot() "
   ]
  },
  {
   "cell_type": "markdown",
   "metadata": {},
   "source": [
    "Podemos usar las etiquetas para indizar:"
   ]
  },
  {
   "cell_type": "code",
   "execution_count": null,
   "metadata": {},
   "outputs": [],
   "source": [
    "da.sel(lat=-32, lon=80).plot()"
   ]
  },
  {
   "cell_type": "code",
   "execution_count": null,
   "metadata": {},
   "outputs": [],
   "source": [
    "da.sel(lat=50.0, lon=200.0, time=\"2020\")"
   ]
  },
  {
   "cell_type": "code",
   "execution_count": null,
   "metadata": {},
   "outputs": [],
   "source": [
    "# Ejemplo de \"slicing\" (tomar una rebanada de los datos)\n",
    "\n",
    "ds.sel(time=slice(\"2019-05\", \"2020-07\"))"
   ]
  },
  {
   "cell_type": "markdown",
   "metadata": {},
   "source": [
    "#### Encontrar el valor más cercano \n",
    "\n",
    "Podemos encontrar el dato más cercano a una posición (en tiepo o espacio) usando el método de vecinos más cercanos o \"nearest neighbors\":"
   ]
  },
  {
   "cell_type": "code",
   "execution_count": null,
   "metadata": {},
   "outputs": [],
   "source": [
    "da.sel(lat=52.25, lon=251.8998, method=\"nearest\")"
   ]
  },
  {
   "cell_type": "markdown",
   "metadata": {},
   "source": [
    "En el ejemplo buscamos el valor de sst más cecrano a lat=52.25 grados y lon=251.8998 grados y el resultado fue el valor en lat=52.0 y lon=252.0 "
   ]
  },
  {
   "cell_type": "markdown",
   "metadata": {},
   "source": [
    "**Todos los métodos que hemos visto también funcionan en `Dataset`s:**"
   ]
  },
  {
   "cell_type": "code",
   "execution_count": null,
   "metadata": {},
   "outputs": [],
   "source": [
    "ds.sel(lat=52.25, lon=251.8998, method=\"nearest\")"
   ]
  },
  {
   "cell_type": "markdown",
   "metadata": {},
   "source": [
    "### Indices vectorizados\n",
    "\n",
    "Como NumPy y Pandas, xarray nos permite indizar muchos elementos de una sola vez en forma vectorizada:"
   ]
  },
  {
   "cell_type": "code",
   "execution_count": null,
   "metadata": {},
   "outputs": [],
   "source": [
    "# genera coordenadas para un transecto de puntos\n",
    "lat_points = xr.DataArray([60, 80, 90], dims=\"points\")\n",
    "lon_points = xr.DataArray([250, 250, 250], dims=\"points\")\n",
    "lat_points"
   ]
  },
  {
   "cell_type": "code",
   "execution_count": null,
   "metadata": {},
   "outputs": [],
   "source": [
    "lon_points"
   ]
  },
  {
   "cell_type": "code",
   "execution_count": null,
   "metadata": {},
   "outputs": [],
   "source": [
    "# selecciona los puntos más cercanos a lo largo del transecto\n",
    "da.sel(lat=lat_points, lon=lon_points, method=\"nearest\").plot()"
   ]
  },
  {
   "cell_type": "markdown",
   "metadata": {},
   "source": [
    "#### Indizar con where()\n",
    "\n",
    "Podemos elegir un subconjunto de datos que cumple alguna condición con .where() (donde la condición es cierta, haz algo)."
   ]
  },
  {
   "cell_type": "code",
   "execution_count": null,
   "metadata": {},
   "outputs": [],
   "source": [
    "# Reemplacemos los valores faltantes o NaN's (not a number) \n",
    "# con algún valor real arbitrario (-99)\n",
    "ds.sst.where(ds.sst.notnull(), -99)"
   ]
  },
  {
   "cell_type": "markdown",
   "metadata": {},
   "source": [
    "Ya no hay NaN's "
   ]
  },
  {
   "cell_type": "markdown",
   "metadata": {},
   "source": [
    "## Computar con los datos\n",
    "\n",
    "Finalmente veremos cómo hacer aritmética básica con los datos y cómo agregar o reducir a lo largo de una dimensión.\n",
    "\n",
    "Las operaciones aritméticas con un solo arreglo de datos (DataArray) se vectorizan automáticamente, como en NumPy:"
   ]
  },
  {
   "cell_type": "code",
   "execution_count": null,
   "metadata": {},
   "outputs": [],
   "source": [
    "da = ds[\"sst\"]\n",
    "da"
   ]
  },
  {
   "cell_type": "code",
   "execution_count": null,
   "metadata": {},
   "outputs": [],
   "source": [
    "da + 273.15 # tamibén es un vector"
   ]
  },
  {
   "cell_type": "markdown",
   "metadata": {},
   "source": [
    "#### Métodos de agregación y reducción\n",
    "\n",
    "Xarray soporta muchos de los métodos de agrecagión de NumPy (Ej: all, any, argmax, argmin, max, mean, median, min, prod, sum, std, var). A diferencia de NumPy, podemos usar los nombres de las dimensiones en vez de el escalar del eje:\n",
    "\n",
    "[]"
   ]
  },
  {
   "cell_type": "code",
   "execution_count": null,
   "metadata": {},
   "outputs": [],
   "source": [
    "da_mean = da.mean(dim=\"time\")\n",
    "da_mean"
   ]
  },
  {
   "cell_type": "code",
   "execution_count": null,
   "metadata": {},
   "outputs": [],
   "source": [
    "da.std(dim=[\"lat\", \"lon\"]).plot()"
   ]
  },
  {
   "cell_type": "markdown",
   "metadata": {},
   "source": [
    "#### Broadcasting:\n",
    "\n",
    "Broadcasting permite que un operador o función actúe en uno o más arreglos aún cuando no tienen la misma forma (shape) bajo ciertas condiciones. El siguiente esquema de Stephan Hoyer -- [xarray ECMWF Python workshop](https://docs.google.com/presentation/d/16CMY3g_OYr6fQplUZIDqVtG-SKZqsG8Ckwoj2oOqepU/edit#slide=id.g2b68f9254d_1_154) --  ilustra el resultado de operar en arreglos con distintas coordenadas:\n",
    "\n",
    "![broadcasting](images/broadcasting.png)"
   ]
  },
  {
   "cell_type": "code",
   "execution_count": null,
   "metadata": {},
   "outputs": [],
   "source": [
    "#Veamos los tamaños y coordenadas de del dataArray da\n",
    "da.shape, da.dims"
   ]
  },
  {
   "cell_type": "code",
   "execution_count": null,
   "metadata": {},
   "outputs": [],
   "source": [
    "# Veamos el tamaÑo y coordenadas después de tomar el promedio (dataArray da_mean)\n",
    "da_mean.shape, da_mean.dims"
   ]
  },
  {
   "cell_type": "code",
   "execution_count": null,
   "metadata": {
    "scrolled": true
   },
   "outputs": [],
   "source": [
    "# Restemos el promedio (2D) al arreglo original (3D)\n",
    "x = da - da_mean\n",
    "x"
   ]
  },
  {
   "cell_type": "markdown",
   "metadata": {},
   "source": [
    "Nos quedó algo de 3 dimensiones"
   ]
  },
  {
   "cell_type": "markdown",
   "metadata": {},
   "source": [
    "### Operaciones de alto nivel: groupby, resample, rolling, coarsen, weighted\n",
    "\n",
    "Xarray tiene otras funciones muy útiles de alto nivel que te permiten hacer operciones comunes:\n",
    "   * `groupby` : Agrupa los datos en casillas o \"bins\" y reduce el tamaño\n",
    "   * `resample` : Caso especial de `groupby`para el eje temporal. Permite cambiar la frecuencia de muestreo de los datos (upsample o downsample).\n",
    "   * `rolling` : Opera en ventanas móviles. Ej. media móvil\n",
    "   * `coarsen` : Disminuye la frecuencia de muestreo (Downsample)\n",
    "   * `weighted` : Pondera los datos antes de aplicar alguna reducción."
   ]
  },
  {
   "cell_type": "markdown",
   "metadata": {},
   "source": [
    "#### groupby"
   ]
  },
  {
   "cell_type": "code",
   "execution_count": null,
   "metadata": {},
   "outputs": [],
   "source": [
    "ds"
   ]
  },
  {
   "cell_type": "code",
   "execution_count": null,
   "metadata": {},
   "outputs": [],
   "source": [
    "# Agrupa por estación del año\n",
    "ds.groupby(\"time.season\")"
   ]
  },
  {
   "cell_type": "code",
   "execution_count": null,
   "metadata": {},
   "outputs": [],
   "source": [
    "# agrupa por día de la semana\n",
    "ds.groupby(\"time.dayofweek\")"
   ]
  },
  {
   "cell_type": "code",
   "execution_count": null,
   "metadata": {},
   "outputs": [],
   "source": [
    "# calcula el promedio mensual\n",
    "seasonal_mean = ds.groupby(\"time.season\").mean()\n",
    "seasonal_mean"
   ]
  },
  {
   "cell_type": "code",
   "execution_count": null,
   "metadata": {},
   "outputs": [],
   "source": [
    "# Las estaciones no están en orden pero podemos acomodarlas en orden usando .reindex\n",
    "seasonal_mean = seasonal_mean.reindex(season=[\"DJF\", \"MAM\", \"JJA\", \"SON\"])\n",
    "seasonal_mean"
   ]
  },
  {
   "cell_type": "code",
   "execution_count": null,
   "metadata": {},
   "outputs": [],
   "source": [
    "seasonal_mean.sst.plot(col=\"season\", robust=True, cmap=\"inferno\")"
   ]
  },
  {
   "cell_type": "markdown",
   "metadata": {},
   "source": [
    "#### resample"
   ]
  },
  {
   "cell_type": "code",
   "execution_count": null,
   "metadata": {},
   "outputs": [],
   "source": [
    "# Cambia la frecuencia de muestreo a dos veces por mes\n",
    "ds.sst.resample(time=\"2MS\").mean()"
   ]
  },
  {
   "cell_type": "markdown",
   "metadata": {},
   "source": [
    "#### rolling window operations"
   ]
  },
  {
   "cell_type": "code",
   "execution_count": null,
   "metadata": {},
   "outputs": [],
   "source": [
    "# Média móvil con ventana tamaño 7\n",
    "ds.sst.rolling(time=7).mean()"
   ]
  },
  {
   "cell_type": "markdown",
   "metadata": {},
   "source": [
    "### Más recursos\n",
    "\n",
    "Esto solo es una introducción a xarray y netcdf. Si quieren ir más allá les recomiendo estos notebooks y la documentación de xarray:\n",
    "    \n",
    "**Docs:**\n",
    "* Estructuras de datos: http://xarray.pydata.org/en/latest/data-structures.html\n",
    "* Lectura y escritura de archivos: https://xarray.pydata.org/en/stable/io.html\n",
    "* Índices y selección de datos: https://xarray.pydata.org/en/stable/user-guide/indexing.html \n",
    "\n",
    "**Enlaces a notebooks**\n",
    "\n",
    "Tutoriales de xarray:\n",
    "\n",
    "* [Cómputo con xarray (extendida)](https://github.com/xarray-contrib/xarray-tutorial/blob/c133a80c2d911ef841ee6197f88ec0a0d87fbd94/scipy-tutorial/03_computation_with_xarray.ipynb)\n",
    "* [Gráficas y visualización](https://github.com/xarray-contrib/xarray-tutorial/blob/c133a80c2d911ef841ee6197f88ec0a0d87fbd94/scipy-tutorial/04_plotting_and_visualization.ipynb)\n"
   ]
  },
  {
   "cell_type": "code",
   "execution_count": null,
   "metadata": {},
   "outputs": [],
   "source": []
  }
 ],
 "metadata": {
  "kernelspec": {
   "display_name": "Python 3",
   "language": "python",
   "name": "python3"
  },
  "language_info": {
   "codemirror_mode": {
    "name": "ipython",
    "version": 3
   },
   "file_extension": ".py",
   "mimetype": "text/x-python",
   "name": "python",
   "nbconvert_exporter": "python",
   "pygments_lexer": "ipython3",
   "version": "3.7.6"
  }
 },
 "nbformat": 4,
 "nbformat_minor": 4
}
